{
  "nbformat": 4,
  "nbformat_minor": 0,
  "metadata": {
    "colab": {
      "provenance": []
    },
    "kernelspec": {
      "name": "python3",
      "display_name": "Python 3"
    },
    "language_info": {
      "name": "python"
    }
  },
  "cells": [
    {
      "cell_type": "markdown",
      "source": [
        "## yolov8-detection"
      ],
      "metadata": {
        "id": "QijEBc0J38t4"
      }
    },
    {
      "cell_type": "code",
      "source": [
        "# Create yolov8-detection label\n",
        "import numpy as np\n",
        "import pandas as pd\n",
        "import os\n",
        "import shutil\n",
        "\n",
        "# Open csv file\n",
        "train = pd.read_csv('/kaggle/input/hackathon-online-phuket-landmark-recognition/train.csv')\n",
        "\n",
        "# Create folder\n",
        "os.mkdir('/kaggle/working/labels')\n",
        "\n",
        "# Create label's text file\n",
        "for i in range(len(train)):\n",
        "    Classes = train['label'][i]\n",
        "    text = str(Classes) + \" 0.5 0.5 1 1\"\n",
        "    L = len(train['id'][i])-4\n",
        "    name = str(train['id'][i][0:L])+ \".txt\"\n",
        "    file = open('/kaggle/working/labels/' + name,'w')\n",
        "    file.write(text)\n",
        "    file.close()\n",
        "\n",
        "# zip file and upload\n",
        "shutil.make_archive('labels', 'zip', '/kaggle/working/labels/')\n",
        "\n",
        "# Train yolov8-detection\n",
        "!unzip -qq /content/drive/MyDrive/landmark/yolov8.zip -d /content/datasets\n",
        "!git clone https://github.com/ultralytics/ultralytics\n",
        "%pip -qq install ultralytics\n",
        "from ultralytics import YOLO\n",
        "model = YOLO(\"yolov8n.pt\")\n",
        "results = model.train(data=\"/content/ultralytics/ultralytics/datasets/coco128.yaml\", epochs=100,imgsz=640)"
      ],
      "metadata": {
        "id": "7cHAxUG64BHv"
      },
      "execution_count": null,
      "outputs": []
    },
    {
      "cell_type": "markdown",
      "source": [
        "## yolov8-cls"
      ],
      "metadata": {
        "id": "DBqnSq-o4EfK"
      }
    },
    {
      "cell_type": "code",
      "source": [
        "# Create yolov8-cls label\n",
        "import pandas as pd\n",
        "import cv2\n",
        "import os\n",
        "import random\n",
        "\n",
        "# Create train and cal folder\n",
        "name_list = os.listdir('train_det\\labels')\n",
        "random.shuffle(name_list)\n",
        "Count = [0,0,0,0,0,0,0,0,0,0,0,0,0,0,0]\n",
        "for i in range(len(name_list)):\n",
        "    f = open('train_det/labels/' + str(name_list[i]), \"r\")\n",
        "    for x in f:\n",
        "        Class = int(x.split()[0])\n",
        "    L = len(name_list[i]) - 4\n",
        "    name = str(name_list[i][0:L]) + \".jpg\"\n",
        "    if Count[Class] <= 40:\n",
        "        img = cv2.imread('train_det/images/' + name)\n",
        "        path = 'val/'+ str(Class) +'/'+name\n",
        "        cv2.imwrite(path, img)\n",
        "        path = 'train/' + str(Class) + '/' + name\n",
        "        cv2.imwrite(path, img)\n",
        "        Count[Class] = Count[Class] + 1\n",
        "    else:\n",
        "        img = cv2.imread('train_det/images/' + name)\n",
        "        path = 'train/' + str(Class) + '/' + name\n",
        "        cv2.imwrite(path, img)\n",
        "\n",
        "# Train yolov8-cls\n",
        "!unzip -qq /content/drive/MyDrive/landmark/yolov8.zip -d /content/datasets\n",
        "!git clone https://github.com/ultralytics/ultralytics\n",
        "%pip -qq install ultralytics\n",
        "from ultralytics import YOLO\n",
        "model = YOLO('yolov8x-cls.pt')  # load a pretrained model (recommended for training)\n",
        "model.train(data='/content/datasets', epochs=160, imgsz=640)"
      ],
      "metadata": {
        "id": "5UEGw5rb2pCH"
      },
      "execution_count": null,
      "outputs": []
    }
  ]
}