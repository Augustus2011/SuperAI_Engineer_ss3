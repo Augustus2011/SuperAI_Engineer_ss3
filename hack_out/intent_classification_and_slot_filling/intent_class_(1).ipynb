{
  "metadata": {
    "kernelspec": {
      "language": "python",
      "display_name": "Python 3",
      "name": "python3"
    },
    "language_info": {
      "name": "python",
      "version": "3.7.12",
      "mimetype": "text/x-python",
      "codemirror_mode": {
        "name": "ipython",
        "version": 3
      },
      "pygments_lexer": "ipython3",
      "nbconvert_exporter": "python",
      "file_extension": ".py"
    },
    "colab": {
      "provenance": []
    }
  },
  "nbformat_minor": 0,
  "nbformat": 4,
  "cells": [
    {
      "cell_type": "code",
      "source": [
        "# This Python 3 environment comes with many helpful analytics libraries installed\n",
        "# It is defined by the kaggle/python Docker image: https://github.com/kaggle/docker-python\n",
        "# For example, here's several helpful packages to load\n",
        "\n",
        "import numpy as np # linear algebra\n",
        "import pandas as pd # data processing, CSV file I/O (e.g. pd.read_csv)\n",
        "\n",
        "# Input data files are available in the read-only \"../input/\" directory\n",
        "# For example, running this (by clicking run or pressing Shift+Enter) will list all files under the input directory\n",
        "\n",
        "import os\n",
        "for dirname, _, filenames in os.walk('/kaggle/input'):\n",
        "    for filename in filenames:\n",
        "        print(os.path.join(dirname, filename))\n",
        "\n",
        "# You can write up to 20GB to the current directory (/kaggle/working/) that gets preserved as output when you create a version using \"Save & Run All\" \n",
        "# You can also write temporary files to /kaggle/temp/, but they won't be saved outside of the current session"
      ],
      "metadata": {
        "_uuid": "8f2839f25d086af736a60e9eeb907d3b93b6e0e5",
        "_cell_guid": "b1076dfc-b9ad-4769-8c92-a6c4dae69d19",
        "execution": {
          "iopub.status.busy": "2023-03-18T13:27:45.450527Z",
          "iopub.execute_input": "2023-03-18T13:27:45.450885Z",
          "iopub.status.idle": "2023-03-18T13:27:45.459660Z",
          "shell.execute_reply.started": "2023-03-18T13:27:45.450851Z",
          "shell.execute_reply": "2023-03-18T13:27:45.458437Z"
        },
        "trusted": true,
        "id": "u_eLUXmV2Rjf",
        "outputId": "1889d039-63b9-49e2-b5be-8733d5f972d1"
      },
      "execution_count": null,
      "outputs": [
        {
          "name": "stdout",
          "text": "/kaggle/input/hackathon-online-nlu-intent-classification/intent_sample_submission.csv\n/kaggle/input/hackathon-online-nlu-intent-classification/train.json\n/kaggle/input/hackathon-online-nlu-intent-classification/small_test.csv\n/kaggle/input/hackathon-online-nlu-intent-classification/test.csv\n/kaggle/input/hackathon-online-nlu-intent-classification/valid.json\n",
          "output_type": "stream"
        }
      ]
    },
    {
      "cell_type": "code",
      "source": [
        "!pip install simpletransformers"
      ],
      "metadata": {
        "execution": {
          "iopub.status.busy": "2023-03-18T13:27:45.461812Z",
          "iopub.execute_input": "2023-03-18T13:27:45.462357Z",
          "iopub.status.idle": "2023-03-18T13:28:08.650670Z",
          "shell.execute_reply.started": "2023-03-18T13:27:45.462318Z",
          "shell.execute_reply": "2023-03-18T13:28:08.649309Z"
        },
        "trusted": true,
        "id": "VMQniAVR2Rji",
        "outputId": "8d684949-2c4c-4f5e-85b3-dfaad7688882"
      },
      "execution_count": null,
      "outputs": [
        {
          "name": "stdout",
          "text": "Collecting simpletransformers\n  Downloading simpletransformers-0.63.9-py3-none-any.whl (250 kB)\n\u001b[2K     \u001b[90m━━━━━━━━━━━━━━━━━━━━━━━━━━━━━━━━━━━━━━\u001b[0m \u001b[32m250.5/250.5 kB\u001b[0m \u001b[31m13.4 MB/s\u001b[0m eta \u001b[36m0:00:00\u001b[0m\n\u001b[?25hRequirement already satisfied: datasets in /opt/conda/lib/python3.7/site-packages (from simpletransformers) (2.1.0)\nRequirement already satisfied: sentencepiece in /opt/conda/lib/python3.7/site-packages (from simpletransformers) (0.1.97)\nRequirement already satisfied: wandb>=0.10.32 in /opt/conda/lib/python3.7/site-packages (from simpletransformers) (0.13.10)\nRequirement already satisfied: scikit-learn in /opt/conda/lib/python3.7/site-packages (from simpletransformers) (1.0.2)\nRequirement already satisfied: pandas in /opt/conda/lib/python3.7/site-packages (from simpletransformers) (1.3.5)\nRequirement already satisfied: regex in /opt/conda/lib/python3.7/site-packages (from simpletransformers) (2021.11.10)\nRequirement already satisfied: transformers>=4.6.0 in /opt/conda/lib/python3.7/site-packages (from simpletransformers) (4.26.1)\nRequirement already satisfied: tokenizers in /opt/conda/lib/python3.7/site-packages (from simpletransformers) (0.13.2)\nRequirement already satisfied: scipy in /opt/conda/lib/python3.7/site-packages (from simpletransformers) (1.7.3)\nCollecting seqeval\n  Downloading seqeval-1.2.2.tar.gz (43 kB)\n\u001b[2K     \u001b[90m━━━━━━━━━━━━━━━━━━━━━━━━━━━━━━━━━━━━━━━━\u001b[0m \u001b[32m43.6/43.6 kB\u001b[0m \u001b[31m4.0 MB/s\u001b[0m eta \u001b[36m0:00:00\u001b[0m\n\u001b[?25h  Preparing metadata (setup.py) ... \u001b[?25ldone\n\u001b[?25hRequirement already satisfied: tensorboard in /opt/conda/lib/python3.7/site-packages (from simpletransformers) (2.11.2)\nCollecting streamlit\n  Downloading streamlit-1.20.0-py2.py3-none-any.whl (9.6 MB)\n\u001b[2K     \u001b[90m━━━━━━━━━━━━━━━━━━━━━━━━━━━━━━━━━━━━━━━━\u001b[0m \u001b[32m9.6/9.6 MB\u001b[0m \u001b[31m77.8 MB/s\u001b[0m eta \u001b[36m0:00:00\u001b[0m:00:01\u001b[0m00:01\u001b[0m\n\u001b[?25hRequirement already satisfied: requests in /opt/conda/lib/python3.7/site-packages (from simpletransformers) (2.28.2)\nRequirement already satisfied: tqdm>=4.47.0 in /opt/conda/lib/python3.7/site-packages (from simpletransformers) (4.64.1)\nRequirement already satisfied: numpy in /opt/conda/lib/python3.7/site-packages (from simpletransformers) (1.21.6)\nRequirement already satisfied: huggingface-hub<1.0,>=0.11.0 in /opt/conda/lib/python3.7/site-packages (from transformers>=4.6.0->simpletransformers) (0.12.1)\nRequirement already satisfied: filelock in /opt/conda/lib/python3.7/site-packages (from transformers>=4.6.0->simpletransformers) (3.9.0)\nRequirement already satisfied: importlib-metadata in /opt/conda/lib/python3.7/site-packages (from transformers>=4.6.0->simpletransformers) (4.11.4)\nRequirement already satisfied: pyyaml>=5.1 in /opt/conda/lib/python3.7/site-packages (from transformers>=4.6.0->simpletransformers) (6.0)\nRequirement already satisfied: packaging>=20.0 in /opt/conda/lib/python3.7/site-packages (from transformers>=4.6.0->simpletransformers) (23.0)\nRequirement already satisfied: setuptools in /opt/conda/lib/python3.7/site-packages (from wandb>=0.10.32->simpletransformers) (59.8.0)\nRequirement already satisfied: setproctitle in /opt/conda/lib/python3.7/site-packages (from wandb>=0.10.32->simpletransformers) (1.3.2)\nRequirement already satisfied: GitPython>=1.0.0 in /opt/conda/lib/python3.7/site-packages (from wandb>=0.10.32->simpletransformers) (3.1.30)\nRequirement already satisfied: Click!=8.0.0,>=7.0 in /opt/conda/lib/python3.7/site-packages (from wandb>=0.10.32->simpletransformers) (8.1.3)\nRequirement already satisfied: docker-pycreds>=0.4.0 in /opt/conda/lib/python3.7/site-packages (from wandb>=0.10.32->simpletransformers) (0.4.0)\nRequirement already satisfied: sentry-sdk>=1.0.0 in /opt/conda/lib/python3.7/site-packages (from wandb>=0.10.32->simpletransformers) (1.15.0)\nRequirement already satisfied: typing-extensions in /opt/conda/lib/python3.7/site-packages (from wandb>=0.10.32->simpletransformers) (4.4.0)\nRequirement already satisfied: pathtools in /opt/conda/lib/python3.7/site-packages (from wandb>=0.10.32->simpletransformers) (0.1.2)\nRequirement already satisfied: appdirs>=1.4.3 in /opt/conda/lib/python3.7/site-packages (from wandb>=0.10.32->simpletransformers) (1.4.4)\nRequirement already satisfied: protobuf!=4.21.0,<5,>=3.12.0 in /opt/conda/lib/python3.7/site-packages (from wandb>=0.10.32->simpletransformers) (3.20.3)\nRequirement already satisfied: psutil>=5.0.0 in /opt/conda/lib/python3.7/site-packages (from wandb>=0.10.32->simpletransformers) (5.9.3)\nRequirement already satisfied: urllib3<1.27,>=1.21.1 in /opt/conda/lib/python3.7/site-packages (from requests->simpletransformers) (1.26.14)\nRequirement already satisfied: idna<4,>=2.5 in /opt/conda/lib/python3.7/site-packages (from requests->simpletransformers) (3.4)\nRequirement already satisfied: charset-normalizer<4,>=2 in /opt/conda/lib/python3.7/site-packages (from requests->simpletransformers) (2.1.1)\nRequirement already satisfied: certifi>=2017.4.17 in /opt/conda/lib/python3.7/site-packages (from requests->simpletransformers) (2022.12.7)\nRequirement already satisfied: xxhash in /opt/conda/lib/python3.7/site-packages (from datasets->simpletransformers) (3.2.0)\nRequirement already satisfied: pyarrow>=5.0.0 in /opt/conda/lib/python3.7/site-packages (from datasets->simpletransformers) (5.0.0)\nRequirement already satisfied: aiohttp in /opt/conda/lib/python3.7/site-packages (from datasets->simpletransformers) (3.8.3)\nRequirement already satisfied: responses<0.19 in /opt/conda/lib/python3.7/site-packages (from datasets->simpletransformers) (0.18.0)\nRequirement already satisfied: multiprocess in /opt/conda/lib/python3.7/site-packages (from datasets->simpletransformers) (0.70.14)\nRequirement already satisfied: dill in /opt/conda/lib/python3.7/site-packages (from datasets->simpletransformers) (0.3.6)\nRequirement already satisfied: fsspec[http]>=2021.05.0 in /opt/conda/lib/python3.7/site-packages (from datasets->simpletransformers) (2023.1.0)\nRequirement already satisfied: python-dateutil>=2.7.3 in /opt/conda/lib/python3.7/site-packages (from pandas->simpletransformers) (2.8.2)\nRequirement already satisfied: pytz>=2017.3 in /opt/conda/lib/python3.7/site-packages (from pandas->simpletransformers) (2022.7.1)\nRequirement already satisfied: threadpoolctl>=2.0.0 in /opt/conda/lib/python3.7/site-packages (from scikit-learn->simpletransformers) (3.1.0)\nRequirement already satisfied: joblib>=0.11 in /opt/conda/lib/python3.7/site-packages (from scikit-learn->simpletransformers) (1.2.0)\nRequirement already satisfied: semver in /opt/conda/lib/python3.7/site-packages (from streamlit->simpletransformers) (2.13.0)\nRequirement already satisfied: pympler>=0.9 in /opt/conda/lib/python3.7/site-packages (from streamlit->simpletransformers) (1.0.1)\nRequirement already satisfied: pillow>=6.2.0 in /opt/conda/lib/python3.7/site-packages (from streamlit->simpletransformers) (9.4.0)\nCollecting watchdog\n  Downloading watchdog-2.3.1-py3-none-manylinux2014_x86_64.whl (80 kB)\n\u001b[2K     \u001b[90m━━━━━━━━━━━━━━━━━━━━━━━━━━━━━━━━━━━━━━━━\u001b[0m \u001b[32m80.6/80.6 kB\u001b[0m \u001b[31m8.1 MB/s\u001b[0m eta \u001b[36m0:00:00\u001b[0m\n\u001b[?25hRequirement already satisfied: tzlocal>=1.1 in /opt/conda/lib/python3.7/site-packages (from streamlit->simpletransformers) (4.2)\nRequirement already satisfied: rich>=10.11.0 in /opt/conda/lib/python3.7/site-packages (from streamlit->simpletransformers) (13.2.0)\nCollecting pydeck>=0.1.dev5\n  Downloading pydeck-0.8.0-py2.py3-none-any.whl (4.7 MB)\n\u001b[2K     \u001b[90m━━━━━━━━━━━━━━━━━━━━━━━━━━━━━━━━━━━━━━━━\u001b[0m \u001b[32m4.7/4.7 MB\u001b[0m \u001b[31m57.6 MB/s\u001b[0m eta \u001b[36m0:00:00\u001b[0m:00:01\u001b[0m00:01\u001b[0m\n\u001b[?25hCollecting blinker>=1.0.0\n  Downloading blinker-1.5-py2.py3-none-any.whl (12 kB)\nRequirement already satisfied: altair<5,>=3.2.0 in /opt/conda/lib/python3.7/site-packages (from streamlit->simpletransformers) (4.2.2)\nRequirement already satisfied: cachetools>=4.0 in /opt/conda/lib/python3.7/site-packages (from streamlit->simpletransformers) (4.2.4)\nCollecting validators>=0.2\n  Downloading validators-0.20.0.tar.gz (30 kB)\n  Preparing metadata (setup.py) ... \u001b[?25ldone\n\u001b[?25hRequirement already satisfied: toml in /opt/conda/lib/python3.7/site-packages (from streamlit->simpletransformers) (0.10.2)\nRequirement already satisfied: tornado>=6.0.3 in /opt/conda/lib/python3.7/site-packages (from streamlit->simpletransformers) (6.1)\nRequirement already satisfied: markdown>=2.6.8 in /opt/conda/lib/python3.7/site-packages (from tensorboard->simpletransformers) (3.4.1)\nRequirement already satisfied: google-auth-oauthlib<0.5,>=0.4.1 in /opt/conda/lib/python3.7/site-packages (from tensorboard->simpletransformers) (0.4.6)\nRequirement already satisfied: werkzeug>=1.0.1 in /opt/conda/lib/python3.7/site-packages (from tensorboard->simpletransformers) (2.2.3)\nRequirement already satisfied: wheel>=0.26 in /opt/conda/lib/python3.7/site-packages (from tensorboard->simpletransformers) (0.38.4)\nRequirement already satisfied: tensorboard-plugin-wit>=1.6.0 in /opt/conda/lib/python3.7/site-packages (from tensorboard->simpletransformers) (1.8.1)\nRequirement already satisfied: tensorboard-data-server<0.7.0,>=0.6.0 in /opt/conda/lib/python3.7/site-packages (from tensorboard->simpletransformers) (0.6.1)\nRequirement already satisfied: google-auth<3,>=1.6.3 in /opt/conda/lib/python3.7/site-packages (from tensorboard->simpletransformers) (1.35.0)\nRequirement already satisfied: grpcio>=1.24.3 in /opt/conda/lib/python3.7/site-packages (from tensorboard->simpletransformers) (1.51.1)\nRequirement already satisfied: absl-py>=0.4 in /opt/conda/lib/python3.7/site-packages (from tensorboard->simpletransformers) (1.4.0)\nRequirement already satisfied: jinja2 in /opt/conda/lib/python3.7/site-packages (from altair<5,>=3.2.0->streamlit->simpletransformers) (3.1.2)\nRequirement already satisfied: toolz in /opt/conda/lib/python3.7/site-packages (from altair<5,>=3.2.0->streamlit->simpletransformers) (0.11.2)\nRequirement already satisfied: entrypoints in /opt/conda/lib/python3.7/site-packages (from altair<5,>=3.2.0->streamlit->simpletransformers) (0.4)\nRequirement already satisfied: jsonschema>=3.0 in /opt/conda/lib/python3.7/site-packages (from altair<5,>=3.2.0->streamlit->simpletransformers) (4.17.3)\nRequirement already satisfied: six>=1.4.0 in /opt/conda/lib/python3.7/site-packages (from docker-pycreds>=0.4.0->wandb>=0.10.32->simpletransformers) (1.16.0)\nRequirement already satisfied: aiosignal>=1.1.2 in /opt/conda/lib/python3.7/site-packages (from aiohttp->datasets->simpletransformers) (1.3.1)\nRequirement already satisfied: async-timeout<5.0,>=4.0.0a3 in /opt/conda/lib/python3.7/site-packages (from aiohttp->datasets->simpletransformers) (4.0.2)\nRequirement already satisfied: frozenlist>=1.1.1 in /opt/conda/lib/python3.7/site-packages (from aiohttp->datasets->simpletransformers) (1.3.3)\nRequirement already satisfied: asynctest==0.13.0 in /opt/conda/lib/python3.7/site-packages (from aiohttp->datasets->simpletransformers) (0.13.0)\nRequirement already satisfied: yarl<2.0,>=1.0 in /opt/conda/lib/python3.7/site-packages (from aiohttp->datasets->simpletransformers) (1.8.2)\nRequirement already satisfied: multidict<7.0,>=4.5 in /opt/conda/lib/python3.7/site-packages (from aiohttp->datasets->simpletransformers) (6.0.4)\nRequirement already satisfied: attrs>=17.3.0 in /opt/conda/lib/python3.7/site-packages (from aiohttp->datasets->simpletransformers) (22.2.0)\nRequirement already satisfied: gitdb<5,>=4.0.1 in /opt/conda/lib/python3.7/site-packages (from GitPython>=1.0.0->wandb>=0.10.32->simpletransformers) (4.0.10)\nRequirement already satisfied: rsa<5,>=3.1.4 in /opt/conda/lib/python3.7/site-packages (from google-auth<3,>=1.6.3->tensorboard->simpletransformers) (4.9)\nRequirement already satisfied: pyasn1-modules>=0.2.1 in /opt/conda/lib/python3.7/site-packages (from google-auth<3,>=1.6.3->tensorboard->simpletransformers) (0.2.8)\nRequirement already satisfied: requests-oauthlib>=0.7.0 in /opt/conda/lib/python3.7/site-packages (from google-auth-oauthlib<0.5,>=0.4.1->tensorboard->simpletransformers) (1.3.1)\nRequirement already satisfied: zipp>=0.5 in /opt/conda/lib/python3.7/site-packages (from importlib-metadata->transformers>=4.6.0->simpletransformers) (3.11.0)\nRequirement already satisfied: pygments<3.0.0,>=2.6.0 in /opt/conda/lib/python3.7/site-packages (from rich>=10.11.0->streamlit->simpletransformers) (2.14.0)\nRequirement already satisfied: markdown-it-py<3.0.0,>=2.1.0 in /opt/conda/lib/python3.7/site-packages (from rich>=10.11.0->streamlit->simpletransformers) (2.1.0)\nRequirement already satisfied: backports.zoneinfo in /opt/conda/lib/python3.7/site-packages (from tzlocal>=1.1->streamlit->simpletransformers) (0.2.1)\nRequirement already satisfied: pytz-deprecation-shim in /opt/conda/lib/python3.7/site-packages (from tzlocal>=1.1->streamlit->simpletransformers) (0.1.0.post0)\nRequirement already satisfied: decorator>=3.4.0 in /opt/conda/lib/python3.7/site-packages (from validators>=0.2->streamlit->simpletransformers) (5.1.1)\nRequirement already satisfied: MarkupSafe>=2.1.1 in /opt/conda/lib/python3.7/site-packages (from werkzeug>=1.0.1->tensorboard->simpletransformers) (2.1.1)\nRequirement already satisfied: smmap<6,>=3.0.1 in /opt/conda/lib/python3.7/site-packages (from gitdb<5,>=4.0.1->GitPython>=1.0.0->wandb>=0.10.32->simpletransformers) (5.0.0)\nRequirement already satisfied: pyrsistent!=0.17.0,!=0.17.1,!=0.17.2,>=0.14.0 in /opt/conda/lib/python3.7/site-packages (from jsonschema>=3.0->altair<5,>=3.2.0->streamlit->simpletransformers) (0.19.3)\nRequirement already satisfied: pkgutil-resolve-name>=1.3.10 in /opt/conda/lib/python3.7/site-packages (from jsonschema>=3.0->altair<5,>=3.2.0->streamlit->simpletransformers) (1.3.10)\nRequirement already satisfied: importlib-resources>=1.4.0 in /opt/conda/lib/python3.7/site-packages (from jsonschema>=3.0->altair<5,>=3.2.0->streamlit->simpletransformers) (5.10.2)\nRequirement already satisfied: mdurl~=0.1 in /opt/conda/lib/python3.7/site-packages (from markdown-it-py<3.0.0,>=2.1.0->rich>=10.11.0->streamlit->simpletransformers) (0.1.2)\nRequirement already satisfied: pyasn1<0.5.0,>=0.4.6 in /opt/conda/lib/python3.7/site-packages (from pyasn1-modules>=0.2.1->google-auth<3,>=1.6.3->tensorboard->simpletransformers) (0.4.8)\nRequirement already satisfied: oauthlib>=3.0.0 in /opt/conda/lib/python3.7/site-packages (from requests-oauthlib>=0.7.0->google-auth-oauthlib<0.5,>=0.4.1->tensorboard->simpletransformers) (3.2.2)\nRequirement already satisfied: tzdata in /opt/conda/lib/python3.7/site-packages (from pytz-deprecation-shim->tzlocal>=1.1->streamlit->simpletransformers) (2022.7)\nBuilding wheels for collected packages: seqeval, validators\n  Building wheel for seqeval (setup.py) ... \u001b[?25ldone\n\u001b[?25h  Created wheel for seqeval: filename=seqeval-1.2.2-py3-none-any.whl size=16179 sha256=33d4476a78c7b36823a3de91acd1a5e4b3295543b24383a346359854490c6630\n  Stored in directory: /root/.cache/pip/wheels/b2/a1/b7/0d3b008d0c77cd57332d724b92cf7650b4185b493dc785f00a\n  Building wheel for validators (setup.py) ... \u001b[?25ldone\n\u001b[?25h  Created wheel for validators: filename=validators-0.20.0-py3-none-any.whl size=19581 sha256=665515f8740a45afbfe5eda3c9c17415e7973b0d8d3a74c550670c38ac3abd69\n  Stored in directory: /root/.cache/pip/wheels/3d/7c/f1/f87f51d07a2513aa0fb128d5eb504da1fcef9c87475d9eef64\nSuccessfully built seqeval validators\nInstalling collected packages: watchdog, validators, blinker, pydeck, seqeval, streamlit, simpletransformers\nSuccessfully installed blinker-1.5 pydeck-0.8.0 seqeval-1.2.2 simpletransformers-0.63.9 streamlit-1.20.0 validators-0.20.0 watchdog-2.3.1\n\u001b[33mWARNING: Running pip as the 'root' user can result in broken permissions and conflicting behaviour with the system package manager. It is recommended to use a virtual environment instead: https://pip.pypa.io/warnings/venv\u001b[0m\u001b[33m\n\u001b[0m",
          "output_type": "stream"
        }
      ]
    },
    {
      "cell_type": "code",
      "source": [
        "import seaborn as sns\n",
        "import matplotlib.pyplot as plt\n",
        "import simpletransformers"
      ],
      "metadata": {
        "execution": {
          "iopub.status.busy": "2023-03-18T13:28:08.656412Z",
          "iopub.execute_input": "2023-03-18T13:28:08.656808Z",
          "iopub.status.idle": "2023-03-18T13:28:09.494190Z",
          "shell.execute_reply.started": "2023-03-18T13:28:08.656761Z",
          "shell.execute_reply": "2023-03-18T13:28:09.493075Z"
        },
        "trusted": true,
        "id": "_dUQjsPD2Rjj"
      },
      "execution_count": null,
      "outputs": []
    },
    {
      "cell_type": "code",
      "source": [
        "sample=pd.read_csv(\"/kaggle/input/hackathon-online-nlu-intent-classification/intent_sample_submission.csv\")\n",
        "sample"
      ],
      "metadata": {
        "execution": {
          "iopub.status.busy": "2023-03-18T13:28:09.500248Z",
          "iopub.execute_input": "2023-03-18T13:28:09.502702Z",
          "iopub.status.idle": "2023-03-18T13:28:09.535020Z",
          "shell.execute_reply.started": "2023-03-18T13:28:09.502660Z",
          "shell.execute_reply": "2023-03-18T13:28:09.534042Z"
        },
        "trusted": true,
        "id": "d5Qq6NPC2Rjj",
        "outputId": "420d5053-bd18-4ea1-b71f-2228ff902cb2"
      },
      "execution_count": null,
      "outputs": [
        {
          "execution_count": 5,
          "output_type": "execute_result",
          "data": {
            "text/plain": "      id         intent\n0      1  AddToPlaylist\n1      2            NaN\n2      3            NaN\n3      4            NaN\n4      5            NaN\n..   ...            ...\n295  296            NaN\n296  297            NaN\n297  298            NaN\n298  299            NaN\n299  300            NaN\n\n[300 rows x 2 columns]",
            "text/html": "<div>\n<style scoped>\n    .dataframe tbody tr th:only-of-type {\n        vertical-align: middle;\n    }\n\n    .dataframe tbody tr th {\n        vertical-align: top;\n    }\n\n    .dataframe thead th {\n        text-align: right;\n    }\n</style>\n<table border=\"1\" class=\"dataframe\">\n  <thead>\n    <tr style=\"text-align: right;\">\n      <th></th>\n      <th>id</th>\n      <th>intent</th>\n    </tr>\n  </thead>\n  <tbody>\n    <tr>\n      <th>0</th>\n      <td>1</td>\n      <td>AddToPlaylist</td>\n    </tr>\n    <tr>\n      <th>1</th>\n      <td>2</td>\n      <td>NaN</td>\n    </tr>\n    <tr>\n      <th>2</th>\n      <td>3</td>\n      <td>NaN</td>\n    </tr>\n    <tr>\n      <th>3</th>\n      <td>4</td>\n      <td>NaN</td>\n    </tr>\n    <tr>\n      <th>4</th>\n      <td>5</td>\n      <td>NaN</td>\n    </tr>\n    <tr>\n      <th>...</th>\n      <td>...</td>\n      <td>...</td>\n    </tr>\n    <tr>\n      <th>295</th>\n      <td>296</td>\n      <td>NaN</td>\n    </tr>\n    <tr>\n      <th>296</th>\n      <td>297</td>\n      <td>NaN</td>\n    </tr>\n    <tr>\n      <th>297</th>\n      <td>298</td>\n      <td>NaN</td>\n    </tr>\n    <tr>\n      <th>298</th>\n      <td>299</td>\n      <td>NaN</td>\n    </tr>\n    <tr>\n      <th>299</th>\n      <td>300</td>\n      <td>NaN</td>\n    </tr>\n  </tbody>\n</table>\n<p>300 rows × 2 columns</p>\n</div>"
          },
          "metadata": {}
        }
      ]
    },
    {
      "cell_type": "code",
      "source": [
        "test=pd.read_csv(\"/kaggle/input/hackathon-online-nlu-intent-classification/test.csv\")\n",
        "test"
      ],
      "metadata": {
        "execution": {
          "iopub.status.busy": "2023-03-18T13:45:29.918510Z",
          "iopub.execute_input": "2023-03-18T13:45:29.918892Z",
          "iopub.status.idle": "2023-03-18T13:45:29.938544Z",
          "shell.execute_reply.started": "2023-03-18T13:45:29.918855Z",
          "shell.execute_reply": "2023-03-18T13:45:29.937326Z"
        },
        "trusted": true,
        "id": "hJp3XJ-Z2Rjj",
        "outputId": "73cf7117-e55d-4e41-d8ba-ff2c0c5c93bd"
      },
      "execution_count": null,
      "outputs": [
        {
          "execution_count": 37,
          "output_type": "execute_result",
          "data": {
            "text/plain": "      id                                          utterance\n0      1   add this tune to my playlist guest list mashable\n1      2  i d like to listen to the song the natural farmer\n2      3  i need a table for 8 people at a restaurant in...\n3      4  open the canciones del recuerdo playlist and p...\n4      5  i want to hear something from the top-fifty by...\n..   ...                                                ...\n295  296  show weather forecast in west wildwood south c...\n296  297     add this track to the playlist hits of the 70s\n297  298  i want to eat at a food truck this week with m...\n298  299                   rate company for gertrude 4 of 6\n299  300  i need a table for four at a pub in heard isla...\n\n[300 rows x 2 columns]",
            "text/html": "<div>\n<style scoped>\n    .dataframe tbody tr th:only-of-type {\n        vertical-align: middle;\n    }\n\n    .dataframe tbody tr th {\n        vertical-align: top;\n    }\n\n    .dataframe thead th {\n        text-align: right;\n    }\n</style>\n<table border=\"1\" class=\"dataframe\">\n  <thead>\n    <tr style=\"text-align: right;\">\n      <th></th>\n      <th>id</th>\n      <th>utterance</th>\n    </tr>\n  </thead>\n  <tbody>\n    <tr>\n      <th>0</th>\n      <td>1</td>\n      <td>add this tune to my playlist guest list mashable</td>\n    </tr>\n    <tr>\n      <th>1</th>\n      <td>2</td>\n      <td>i d like to listen to the song the natural farmer</td>\n    </tr>\n    <tr>\n      <th>2</th>\n      <td>3</td>\n      <td>i need a table for 8 people at a restaurant in...</td>\n    </tr>\n    <tr>\n      <th>3</th>\n      <td>4</td>\n      <td>open the canciones del recuerdo playlist and p...</td>\n    </tr>\n    <tr>\n      <th>4</th>\n      <td>5</td>\n      <td>i want to hear something from the top-fifty by...</td>\n    </tr>\n    <tr>\n      <th>...</th>\n      <td>...</td>\n      <td>...</td>\n    </tr>\n    <tr>\n      <th>295</th>\n      <td>296</td>\n      <td>show weather forecast in west wildwood south c...</td>\n    </tr>\n    <tr>\n      <th>296</th>\n      <td>297</td>\n      <td>add this track to the playlist hits of the 70s</td>\n    </tr>\n    <tr>\n      <th>297</th>\n      <td>298</td>\n      <td>i want to eat at a food truck this week with m...</td>\n    </tr>\n    <tr>\n      <th>298</th>\n      <td>299</td>\n      <td>rate company for gertrude 4 of 6</td>\n    </tr>\n    <tr>\n      <th>299</th>\n      <td>300</td>\n      <td>i need a table for four at a pub in heard isla...</td>\n    </tr>\n  </tbody>\n</table>\n<p>300 rows × 2 columns</p>\n</div>"
          },
          "metadata": {}
        }
      ]
    },
    {
      "cell_type": "code",
      "source": [
        "train=pd.read_json(\"/kaggle/input/hackathon-online-nlu-intent-classification/train.json\")"
      ],
      "metadata": {
        "execution": {
          "iopub.status.busy": "2023-03-18T13:28:09.567987Z",
          "iopub.execute_input": "2023-03-18T13:28:09.570312Z",
          "iopub.status.idle": "2023-03-18T13:28:09.654140Z",
          "shell.execute_reply.started": "2023-03-18T13:28:09.570273Z",
          "shell.execute_reply": "2023-03-18T13:28:09.652916Z"
        },
        "trusted": true,
        "id": "L0y69rKU2Rjk"
      },
      "execution_count": null,
      "outputs": []
    },
    {
      "cell_type": "code",
      "source": [
        "train"
      ],
      "metadata": {
        "execution": {
          "iopub.status.busy": "2023-03-18T13:28:09.658994Z",
          "iopub.execute_input": "2023-03-18T13:28:09.661460Z",
          "iopub.status.idle": "2023-03-18T13:28:09.680728Z",
          "shell.execute_reply.started": "2023-03-18T13:28:09.661416Z",
          "shell.execute_reply": "2023-03-18T13:28:09.679447Z"
        },
        "trusted": true,
        "id": "hvxP_2Qt2Rjk",
        "outputId": "a22bf568-d4c6-46b7-9486-a9a60aef4887"
      },
      "execution_count": null,
      "outputs": [
        {
          "execution_count": 8,
          "output_type": "execute_result",
          "data": {
            "text/plain": "                                               utterance  \\\n0                             will it be rainy in tenino   \n1      add steve albini album to my psychedelic rock ...   \n2      book a table for 3 at one of the restaurants i...   \n3                what s the weather forecast for belknap   \n4                   play fereydoun farrokhzad best track   \n...                                                  ...   \n13079                        show me the lights out saga   \n13080   what is a weather of martinique a month from now   \n13081  i d like to reserve a spot at a bakery in guya...   \n13082       please find me the work  serious awesomeness   \n13083  play me a song by dj paul elstak in 1988 on zvooq   \n\n                                                   slots              intent  \n0                 O O O B-condition_description O B-city          GetWeather  \n1      O B-artist I-artist B-music_item O B-playlist_...       AddToPlaylist  \n2      O O O O B-party_size_number O O O O B-restaura...      BookRestaurant  \n3                                     O O O O O O B-city          GetWeather  \n4                O B-artist I-artist B-sort B-music_item           PlayMusic  \n...                                                  ...                 ...  \n13079    O O O B-object_name I-object_name B-object_type  SearchCreativeWork  \n13080  O O O O O B-country B-timeRange I-timeRange I-...          GetWeather  \n13081  O O O O O O O O O B-restaurant_type O B-countr...      BookRestaurant  \n13082              O O O O O B-object_name I-object_name  SearchCreativeWork  \n13083  O O O B-music_item O B-artist I-artist I-artis...           PlayMusic  \n\n[13084 rows x 3 columns]",
            "text/html": "<div>\n<style scoped>\n    .dataframe tbody tr th:only-of-type {\n        vertical-align: middle;\n    }\n\n    .dataframe tbody tr th {\n        vertical-align: top;\n    }\n\n    .dataframe thead th {\n        text-align: right;\n    }\n</style>\n<table border=\"1\" class=\"dataframe\">\n  <thead>\n    <tr style=\"text-align: right;\">\n      <th></th>\n      <th>utterance</th>\n      <th>slots</th>\n      <th>intent</th>\n    </tr>\n  </thead>\n  <tbody>\n    <tr>\n      <th>0</th>\n      <td>will it be rainy in tenino</td>\n      <td>O O O B-condition_description O B-city</td>\n      <td>GetWeather</td>\n    </tr>\n    <tr>\n      <th>1</th>\n      <td>add steve albini album to my psychedelic rock ...</td>\n      <td>O B-artist I-artist B-music_item O B-playlist_...</td>\n      <td>AddToPlaylist</td>\n    </tr>\n    <tr>\n      <th>2</th>\n      <td>book a table for 3 at one of the restaurants i...</td>\n      <td>O O O O B-party_size_number O O O O B-restaura...</td>\n      <td>BookRestaurant</td>\n    </tr>\n    <tr>\n      <th>3</th>\n      <td>what s the weather forecast for belknap</td>\n      <td>O O O O O O B-city</td>\n      <td>GetWeather</td>\n    </tr>\n    <tr>\n      <th>4</th>\n      <td>play fereydoun farrokhzad best track</td>\n      <td>O B-artist I-artist B-sort B-music_item</td>\n      <td>PlayMusic</td>\n    </tr>\n    <tr>\n      <th>...</th>\n      <td>...</td>\n      <td>...</td>\n      <td>...</td>\n    </tr>\n    <tr>\n      <th>13079</th>\n      <td>show me the lights out saga</td>\n      <td>O O O B-object_name I-object_name B-object_type</td>\n      <td>SearchCreativeWork</td>\n    </tr>\n    <tr>\n      <th>13080</th>\n      <td>what is a weather of martinique a month from now</td>\n      <td>O O O O O B-country B-timeRange I-timeRange I-...</td>\n      <td>GetWeather</td>\n    </tr>\n    <tr>\n      <th>13081</th>\n      <td>i d like to reserve a spot at a bakery in guya...</td>\n      <td>O O O O O O O O O B-restaurant_type O B-countr...</td>\n      <td>BookRestaurant</td>\n    </tr>\n    <tr>\n      <th>13082</th>\n      <td>please find me the work  serious awesomeness</td>\n      <td>O O O O O B-object_name I-object_name</td>\n      <td>SearchCreativeWork</td>\n    </tr>\n    <tr>\n      <th>13083</th>\n      <td>play me a song by dj paul elstak in 1988 on zvooq</td>\n      <td>O O O B-music_item O B-artist I-artist I-artis...</td>\n      <td>PlayMusic</td>\n    </tr>\n  </tbody>\n</table>\n<p>13084 rows × 3 columns</p>\n</div>"
          },
          "metadata": {}
        }
      ]
    },
    {
      "cell_type": "code",
      "source": [
        "train.iloc[4]"
      ],
      "metadata": {
        "execution": {
          "iopub.status.busy": "2023-03-18T13:28:09.682053Z",
          "iopub.execute_input": "2023-03-18T13:28:09.682405Z",
          "iopub.status.idle": "2023-03-18T13:28:09.691387Z",
          "shell.execute_reply.started": "2023-03-18T13:28:09.682344Z",
          "shell.execute_reply": "2023-03-18T13:28:09.690136Z"
        },
        "trusted": true,
        "id": "PTo4XFdQ2Rjk",
        "outputId": "079a0cd6-eb3d-40cf-cd2e-7b7f1b844ba8"
      },
      "execution_count": null,
      "outputs": [
        {
          "execution_count": 9,
          "output_type": "execute_result",
          "data": {
            "text/plain": "utterance       play fereydoun farrokhzad best track\nslots        O B-artist I-artist B-sort B-music_item\nintent                                     PlayMusic\nName: 4, dtype: object"
          },
          "metadata": {}
        }
      ]
    },
    {
      "cell_type": "code",
      "source": [
        "train[\"intent\"].value_counts()"
      ],
      "metadata": {
        "execution": {
          "iopub.status.busy": "2023-03-18T13:28:09.696524Z",
          "iopub.execute_input": "2023-03-18T13:28:09.697188Z",
          "iopub.status.idle": "2023-03-18T13:28:09.711611Z",
          "shell.execute_reply.started": "2023-03-18T13:28:09.697150Z",
          "shell.execute_reply": "2023-03-18T13:28:09.710352Z"
        },
        "trusted": true,
        "id": "hjSYQSUw2Rjl",
        "outputId": "d88ed46b-e8bf-4510-96b9-000812dc28cc"
      },
      "execution_count": null,
      "outputs": [
        {
          "execution_count": 10,
          "output_type": "execute_result",
          "data": {
            "text/plain": "GetWeather              1903\nPlayMusic               1901\nRateBook                1869\nBookRestaurant          1862\nSearchCreativeWork      1857\nSearchScreeningEvent    1855\nAddToPlaylist           1837\nName: intent, dtype: int64"
          },
          "metadata": {}
        }
      ]
    },
    {
      "cell_type": "code",
      "source": [
        "from simpletransformers.classification import ClassificationModel, ClassificationArgs"
      ],
      "metadata": {
        "execution": {
          "iopub.status.busy": "2023-03-18T13:28:09.713576Z",
          "iopub.execute_input": "2023-03-18T13:28:09.714575Z",
          "iopub.status.idle": "2023-03-18T13:28:22.721560Z",
          "shell.execute_reply.started": "2023-03-18T13:28:09.714536Z",
          "shell.execute_reply": "2023-03-18T13:28:22.720355Z"
        },
        "trusted": true,
        "id": "8hIjK4bN2Rjl"
      },
      "execution_count": null,
      "outputs": []
    },
    {
      "cell_type": "code",
      "source": [
        "train_t=train[[\"utterance\",\"intent\"]]\n",
        "train_t"
      ],
      "metadata": {
        "execution": {
          "iopub.status.busy": "2023-03-18T13:28:22.724601Z",
          "iopub.execute_input": "2023-03-18T13:28:22.726200Z",
          "iopub.status.idle": "2023-03-18T13:28:22.755096Z",
          "shell.execute_reply.started": "2023-03-18T13:28:22.726149Z",
          "shell.execute_reply": "2023-03-18T13:28:22.752723Z"
        },
        "trusted": true,
        "id": "zqetC87C2Rjm",
        "outputId": "f9574607-b26e-4a6c-e949-69e6ce32d086"
      },
      "execution_count": null,
      "outputs": [
        {
          "execution_count": 12,
          "output_type": "execute_result",
          "data": {
            "text/plain": "                                               utterance              intent\n0                             will it be rainy in tenino          GetWeather\n1      add steve albini album to my psychedelic rock ...       AddToPlaylist\n2      book a table for 3 at one of the restaurants i...      BookRestaurant\n3                what s the weather forecast for belknap          GetWeather\n4                   play fereydoun farrokhzad best track           PlayMusic\n...                                                  ...                 ...\n13079                        show me the lights out saga  SearchCreativeWork\n13080   what is a weather of martinique a month from now          GetWeather\n13081  i d like to reserve a spot at a bakery in guya...      BookRestaurant\n13082       please find me the work  serious awesomeness  SearchCreativeWork\n13083  play me a song by dj paul elstak in 1988 on zvooq           PlayMusic\n\n[13084 rows x 2 columns]",
            "text/html": "<div>\n<style scoped>\n    .dataframe tbody tr th:only-of-type {\n        vertical-align: middle;\n    }\n\n    .dataframe tbody tr th {\n        vertical-align: top;\n    }\n\n    .dataframe thead th {\n        text-align: right;\n    }\n</style>\n<table border=\"1\" class=\"dataframe\">\n  <thead>\n    <tr style=\"text-align: right;\">\n      <th></th>\n      <th>utterance</th>\n      <th>intent</th>\n    </tr>\n  </thead>\n  <tbody>\n    <tr>\n      <th>0</th>\n      <td>will it be rainy in tenino</td>\n      <td>GetWeather</td>\n    </tr>\n    <tr>\n      <th>1</th>\n      <td>add steve albini album to my psychedelic rock ...</td>\n      <td>AddToPlaylist</td>\n    </tr>\n    <tr>\n      <th>2</th>\n      <td>book a table for 3 at one of the restaurants i...</td>\n      <td>BookRestaurant</td>\n    </tr>\n    <tr>\n      <th>3</th>\n      <td>what s the weather forecast for belknap</td>\n      <td>GetWeather</td>\n    </tr>\n    <tr>\n      <th>4</th>\n      <td>play fereydoun farrokhzad best track</td>\n      <td>PlayMusic</td>\n    </tr>\n    <tr>\n      <th>...</th>\n      <td>...</td>\n      <td>...</td>\n    </tr>\n    <tr>\n      <th>13079</th>\n      <td>show me the lights out saga</td>\n      <td>SearchCreativeWork</td>\n    </tr>\n    <tr>\n      <th>13080</th>\n      <td>what is a weather of martinique a month from now</td>\n      <td>GetWeather</td>\n    </tr>\n    <tr>\n      <th>13081</th>\n      <td>i d like to reserve a spot at a bakery in guya...</td>\n      <td>BookRestaurant</td>\n    </tr>\n    <tr>\n      <th>13082</th>\n      <td>please find me the work  serious awesomeness</td>\n      <td>SearchCreativeWork</td>\n    </tr>\n    <tr>\n      <th>13083</th>\n      <td>play me a song by dj paul elstak in 1988 on zvooq</td>\n      <td>PlayMusic</td>\n    </tr>\n  </tbody>\n</table>\n<p>13084 rows × 2 columns</p>\n</div>"
          },
          "metadata": {}
        }
      ]
    },
    {
      "cell_type": "code",
      "source": [
        "train_t[\"intent\"]=train_t[\"intent\"].replace(\"GetWeather\",0)\n",
        "train_t[\"intent\"]=train_t[\"intent\"].replace(\"PlayMusic\",1)\n",
        "train_t[\"intent\"]=train_t[\"intent\"].replace(\"RateBook\",2)\n",
        "train_t[\"intent\"]=train_t[\"intent\"].replace(\"BookRestaurant\",3)\n",
        "train_t[\"intent\"]=train_t[\"intent\"].replace(\"SearchCreativeWork\",4)\n",
        "train_t[\"intent\"]=train_t[\"intent\"].replace(\"SearchScreeningEvent\",5)\n",
        "train_t[\"intent\"]=train_t[\"intent\"].replace(\"AddToPlaylist\",6)"
      ],
      "metadata": {
        "execution": {
          "iopub.status.busy": "2023-03-18T13:28:22.757627Z",
          "iopub.execute_input": "2023-03-18T13:28:22.758814Z",
          "iopub.status.idle": "2023-03-18T13:28:22.793871Z",
          "shell.execute_reply.started": "2023-03-18T13:28:22.758772Z",
          "shell.execute_reply": "2023-03-18T13:28:22.792728Z"
        },
        "trusted": true,
        "id": "RPSUu3qV2Rjm",
        "outputId": "8b7f1c43-a09a-4f20-d85c-1f4e529fa187"
      },
      "execution_count": null,
      "outputs": [
        {
          "name": "stderr",
          "text": "/opt/conda/lib/python3.7/site-packages/ipykernel_launcher.py:1: SettingWithCopyWarning: \nA value is trying to be set on a copy of a slice from a DataFrame.\nTry using .loc[row_indexer,col_indexer] = value instead\n\nSee the caveats in the documentation: https://pandas.pydata.org/pandas-docs/stable/user_guide/indexing.html#returning-a-view-versus-a-copy\n  \"\"\"Entry point for launching an IPython kernel.\n/opt/conda/lib/python3.7/site-packages/ipykernel_launcher.py:2: SettingWithCopyWarning: \nA value is trying to be set on a copy of a slice from a DataFrame.\nTry using .loc[row_indexer,col_indexer] = value instead\n\nSee the caveats in the documentation: https://pandas.pydata.org/pandas-docs/stable/user_guide/indexing.html#returning-a-view-versus-a-copy\n  \n/opt/conda/lib/python3.7/site-packages/ipykernel_launcher.py:3: SettingWithCopyWarning: \nA value is trying to be set on a copy of a slice from a DataFrame.\nTry using .loc[row_indexer,col_indexer] = value instead\n\nSee the caveats in the documentation: https://pandas.pydata.org/pandas-docs/stable/user_guide/indexing.html#returning-a-view-versus-a-copy\n  This is separate from the ipykernel package so we can avoid doing imports until\n/opt/conda/lib/python3.7/site-packages/ipykernel_launcher.py:4: SettingWithCopyWarning: \nA value is trying to be set on a copy of a slice from a DataFrame.\nTry using .loc[row_indexer,col_indexer] = value instead\n\nSee the caveats in the documentation: https://pandas.pydata.org/pandas-docs/stable/user_guide/indexing.html#returning-a-view-versus-a-copy\n  after removing the cwd from sys.path.\n/opt/conda/lib/python3.7/site-packages/ipykernel_launcher.py:5: SettingWithCopyWarning: \nA value is trying to be set on a copy of a slice from a DataFrame.\nTry using .loc[row_indexer,col_indexer] = value instead\n\nSee the caveats in the documentation: https://pandas.pydata.org/pandas-docs/stable/user_guide/indexing.html#returning-a-view-versus-a-copy\n  \"\"\"\n/opt/conda/lib/python3.7/site-packages/ipykernel_launcher.py:6: SettingWithCopyWarning: \nA value is trying to be set on a copy of a slice from a DataFrame.\nTry using .loc[row_indexer,col_indexer] = value instead\n\nSee the caveats in the documentation: https://pandas.pydata.org/pandas-docs/stable/user_guide/indexing.html#returning-a-view-versus-a-copy\n  \n/opt/conda/lib/python3.7/site-packages/ipykernel_launcher.py:7: SettingWithCopyWarning: \nA value is trying to be set on a copy of a slice from a DataFrame.\nTry using .loc[row_indexer,col_indexer] = value instead\n\nSee the caveats in the documentation: https://pandas.pydata.org/pandas-docs/stable/user_guide/indexing.html#returning-a-view-versus-a-copy\n  import sys\n",
          "output_type": "stream"
        }
      ]
    },
    {
      "cell_type": "code",
      "source": [
        "train_t"
      ],
      "metadata": {
        "execution": {
          "iopub.status.busy": "2023-03-18T13:28:22.795277Z",
          "iopub.execute_input": "2023-03-18T13:28:22.796516Z",
          "iopub.status.idle": "2023-03-18T13:28:22.810074Z",
          "shell.execute_reply.started": "2023-03-18T13:28:22.796473Z",
          "shell.execute_reply": "2023-03-18T13:28:22.809149Z"
        },
        "trusted": true,
        "id": "FQHP0lxR2Rjn",
        "outputId": "ea6911e2-99f8-4188-e3d0-53ebfb3e1063"
      },
      "execution_count": null,
      "outputs": [
        {
          "execution_count": 14,
          "output_type": "execute_result",
          "data": {
            "text/plain": "                                               utterance  intent\n0                             will it be rainy in tenino       0\n1      add steve albini album to my psychedelic rock ...       6\n2      book a table for 3 at one of the restaurants i...       3\n3                what s the weather forecast for belknap       0\n4                   play fereydoun farrokhzad best track       1\n...                                                  ...     ...\n13079                        show me the lights out saga       4\n13080   what is a weather of martinique a month from now       0\n13081  i d like to reserve a spot at a bakery in guya...       3\n13082       please find me the work  serious awesomeness       4\n13083  play me a song by dj paul elstak in 1988 on zvooq       1\n\n[13084 rows x 2 columns]",
            "text/html": "<div>\n<style scoped>\n    .dataframe tbody tr th:only-of-type {\n        vertical-align: middle;\n    }\n\n    .dataframe tbody tr th {\n        vertical-align: top;\n    }\n\n    .dataframe thead th {\n        text-align: right;\n    }\n</style>\n<table border=\"1\" class=\"dataframe\">\n  <thead>\n    <tr style=\"text-align: right;\">\n      <th></th>\n      <th>utterance</th>\n      <th>intent</th>\n    </tr>\n  </thead>\n  <tbody>\n    <tr>\n      <th>0</th>\n      <td>will it be rainy in tenino</td>\n      <td>0</td>\n    </tr>\n    <tr>\n      <th>1</th>\n      <td>add steve albini album to my psychedelic rock ...</td>\n      <td>6</td>\n    </tr>\n    <tr>\n      <th>2</th>\n      <td>book a table for 3 at one of the restaurants i...</td>\n      <td>3</td>\n    </tr>\n    <tr>\n      <th>3</th>\n      <td>what s the weather forecast for belknap</td>\n      <td>0</td>\n    </tr>\n    <tr>\n      <th>4</th>\n      <td>play fereydoun farrokhzad best track</td>\n      <td>1</td>\n    </tr>\n    <tr>\n      <th>...</th>\n      <td>...</td>\n      <td>...</td>\n    </tr>\n    <tr>\n      <th>13079</th>\n      <td>show me the lights out saga</td>\n      <td>4</td>\n    </tr>\n    <tr>\n      <th>13080</th>\n      <td>what is a weather of martinique a month from now</td>\n      <td>0</td>\n    </tr>\n    <tr>\n      <th>13081</th>\n      <td>i d like to reserve a spot at a bakery in guya...</td>\n      <td>3</td>\n    </tr>\n    <tr>\n      <th>13082</th>\n      <td>please find me the work  serious awesomeness</td>\n      <td>4</td>\n    </tr>\n    <tr>\n      <th>13083</th>\n      <td>play me a song by dj paul elstak in 1988 on zvooq</td>\n      <td>1</td>\n    </tr>\n  </tbody>\n</table>\n<p>13084 rows × 2 columns</p>\n</div>"
          },
          "metadata": {}
        }
      ]
    },
    {
      "cell_type": "code",
      "source": [
        "train_t.value_counts(\"intent\")"
      ],
      "metadata": {
        "execution": {
          "iopub.status.busy": "2023-03-18T13:28:22.813021Z",
          "iopub.execute_input": "2023-03-18T13:28:22.813290Z",
          "iopub.status.idle": "2023-03-18T13:28:22.824107Z",
          "shell.execute_reply.started": "2023-03-18T13:28:22.813263Z",
          "shell.execute_reply": "2023-03-18T13:28:22.823170Z"
        },
        "trusted": true,
        "id": "R1F4Fmsq2Rjn",
        "outputId": "8fd0cb0b-8deb-4884-ac9a-8bd6b0e3118e"
      },
      "execution_count": null,
      "outputs": [
        {
          "execution_count": 15,
          "output_type": "execute_result",
          "data": {
            "text/plain": "intent\n0    1903\n1    1901\n2    1869\n3    1862\n4    1857\n5    1855\n6    1837\ndtype: int64"
          },
          "metadata": {}
        }
      ]
    },
    {
      "cell_type": "code",
      "source": [
        "from simpletransformers.classification import ClassificationModel\n",
        "import sklearn\n",
        "import torch\n",
        "model_args = {\n",
        "    \"reprocess_input_data\": True,\n",
        "    'train_batch_size':5,\n",
        "    \"use_early_stopping\": True,\n",
        "    \"early_stopping_delta\": 0.01,\n",
        "    \"early_stopping_metric\": \"mcc\",\n",
        "    \"early_stopping_metric_minimize\": False,\n",
        "    \"early_stopping_patience\": 2,\n",
        "    \"evaluate_during_training_steps\": 500,\n",
        "    \"fp16\": False,\n",
        "    \"overwrite_output_dir\":True,\n",
        "    'use_cached_eval_features' : False, \n",
        "    'max_seq_length': 128,\n",
        "    'no_cache': True,\n",
        "    \"warmup_ratio\":0.06,\n",
        "    \"num_train_epochs\":1,\n",
        "    \"adam_epsilon\":1e-08,\n",
        "\n",
        "}\n",
        "model = ClassificationModel(\n",
        "     \"bert\",\n",
        "     \"bert-base-uncased\",\n",
        "     num_labels=2,args=model_args,use_cuda=torch.cuda.is_available(),ignore_mismatched_sizes=True\n",
        ")"
      ],
      "metadata": {
        "execution": {
          "iopub.status.busy": "2023-03-18T13:39:56.573199Z",
          "iopub.execute_input": "2023-03-18T13:39:56.573585Z",
          "iopub.status.idle": "2023-03-18T13:40:04.293757Z",
          "shell.execute_reply.started": "2023-03-18T13:39:56.573552Z",
          "shell.execute_reply": "2023-03-18T13:40:04.292754Z"
        },
        "trusted": true,
        "id": "03wNiLfV2Rjn",
        "outputId": "cb300d87-92ba-4821-979d-1faee968ae85",
        "colab": {
          "referenced_widgets": [
            "2a5b9074c4d747cf9971c803eef80890",
            "0d6ccbd30fa04cfeb4b27451ee050ac5",
            "49eba3a2664b428d99c15ee6ad0556f8",
            "3e2222f672374161b2ff3a5f4ca51a94",
            "8f525280bd4f4312b4fa0cdd48bebeb6"
          ]
        }
      },
      "execution_count": null,
      "outputs": [
        {
          "output_type": "display_data",
          "data": {
            "text/plain": "Downloading (…)lve/main/config.json:   0%|          | 0.00/570 [00:00<?, ?B/s]",
            "application/vnd.jupyter.widget-view+json": {
              "version_major": 2,
              "version_minor": 0,
              "model_id": "2a5b9074c4d747cf9971c803eef80890"
            }
          },
          "metadata": {}
        },
        {
          "output_type": "display_data",
          "data": {
            "text/plain": "Downloading (…)\"pytorch_model.bin\";:   0%|          | 0.00/440M [00:00<?, ?B/s]",
            "application/vnd.jupyter.widget-view+json": {
              "version_major": 2,
              "version_minor": 0,
              "model_id": "0d6ccbd30fa04cfeb4b27451ee050ac5"
            }
          },
          "metadata": {}
        },
        {
          "name": "stderr",
          "text": "Some weights of the model checkpoint at bert-base-uncased were not used when initializing BertForSequenceClassification: ['cls.predictions.decoder.weight', 'cls.seq_relationship.bias', 'cls.predictions.bias', 'cls.predictions.transform.dense.bias', 'cls.predictions.transform.dense.weight', 'cls.predictions.transform.LayerNorm.weight', 'cls.predictions.transform.LayerNorm.bias', 'cls.seq_relationship.weight']\n- This IS expected if you are initializing BertForSequenceClassification from the checkpoint of a model trained on another task or with another architecture (e.g. initializing a BertForSequenceClassification model from a BertForPreTraining model).\n- This IS NOT expected if you are initializing BertForSequenceClassification from the checkpoint of a model that you expect to be exactly identical (initializing a BertForSequenceClassification model from a BertForSequenceClassification model).\nSome weights of BertForSequenceClassification were not initialized from the model checkpoint at bert-base-uncased and are newly initialized: ['classifier.weight', 'classifier.bias']\nYou should probably TRAIN this model on a down-stream task to be able to use it for predictions and inference.\n",
          "output_type": "stream"
        },
        {
          "output_type": "display_data",
          "data": {
            "text/plain": "Downloading (…)okenizer_config.json:   0%|          | 0.00/28.0 [00:00<?, ?B/s]",
            "application/vnd.jupyter.widget-view+json": {
              "version_major": 2,
              "version_minor": 0,
              "model_id": "49eba3a2664b428d99c15ee6ad0556f8"
            }
          },
          "metadata": {}
        },
        {
          "output_type": "display_data",
          "data": {
            "text/plain": "Downloading (…)solve/main/vocab.txt:   0%|          | 0.00/232k [00:00<?, ?B/s]",
            "application/vnd.jupyter.widget-view+json": {
              "version_major": 2,
              "version_minor": 0,
              "model_id": "3e2222f672374161b2ff3a5f4ca51a94"
            }
          },
          "metadata": {}
        },
        {
          "output_type": "display_data",
          "data": {
            "text/plain": "Downloading (…)/main/tokenizer.json:   0%|          | 0.00/466k [00:00<?, ?B/s]",
            "application/vnd.jupyter.widget-view+json": {
              "version_major": 2,
              "version_minor": 0,
              "model_id": "8f525280bd4f4312b4fa0cdd48bebeb6"
            }
          },
          "metadata": {}
        }
      ]
    },
    {
      "cell_type": "code",
      "source": [
        "model.train_model(train_t, show_running_loss=True, acc=sklearn.metrics.accuracy_score)"
      ],
      "metadata": {
        "execution": {
          "iopub.status.busy": "2023-03-18T13:40:09.688214Z",
          "iopub.execute_input": "2023-03-18T13:40:09.688899Z",
          "iopub.status.idle": "2023-03-18T13:44:56.496047Z",
          "shell.execute_reply.started": "2023-03-18T13:40:09.688860Z",
          "shell.execute_reply": "2023-03-18T13:44:56.494704Z"
        },
        "trusted": true,
        "id": "P4M7bmOs2Rjn",
        "outputId": "a97a2d3a-be09-4a8e-9d4d-6f9eba45e16f",
        "colab": {
          "referenced_widgets": [
            "08be6e01a5d242c2a09396bc0cb2a01b",
            "5ee7108ca85943089fb6673cabcb2041",
            "59b4d0cc8a894a1c92c3d6be4d602405"
          ]
        }
      },
      "execution_count": null,
      "outputs": [
        {
          "name": "stderr",
          "text": "/opt/conda/lib/python3.7/site-packages/simpletransformers/classification/classification_model.py:613: UserWarning: Dataframe headers not specified. Falling back to using column 0 as text and column 1 as labels.\n  \"Dataframe headers not specified. Falling back to using column 0 as text and column 1 as labels.\"\n",
          "output_type": "stream"
        },
        {
          "output_type": "display_data",
          "data": {
            "text/plain": "  0%|          | 0/13084 [00:00<?, ?it/s]",
            "application/vnd.jupyter.widget-view+json": {
              "version_major": 2,
              "version_minor": 0,
              "model_id": "08be6e01a5d242c2a09396bc0cb2a01b"
            }
          },
          "metadata": {}
        },
        {
          "output_type": "display_data",
          "data": {
            "text/plain": "Epoch:   0%|          | 0/1 [00:00<?, ?it/s]",
            "application/vnd.jupyter.widget-view+json": {
              "version_major": 2,
              "version_minor": 0,
              "model_id": "5ee7108ca85943089fb6673cabcb2041"
            }
          },
          "metadata": {}
        },
        {
          "output_type": "display_data",
          "data": {
            "text/plain": "Running Epoch 0 of 1:   0%|          | 0/2617 [00:00<?, ?it/s]",
            "application/vnd.jupyter.widget-view+json": {
              "version_major": 2,
              "version_minor": 0,
              "model_id": "59b4d0cc8a894a1c92c3d6be4d602405"
            }
          },
          "metadata": {}
        },
        {
          "execution_count": 32,
          "output_type": "execute_result",
          "data": {
            "text/plain": "(2617, 0.1526119145549944)"
          },
          "metadata": {}
        }
      ]
    },
    {
      "cell_type": "code",
      "source": [
        "test"
      ],
      "metadata": {
        "execution": {
          "iopub.status.busy": "2023-03-18T13:45:00.581308Z",
          "iopub.execute_input": "2023-03-18T13:45:00.581910Z",
          "iopub.status.idle": "2023-03-18T13:45:00.603492Z",
          "shell.execute_reply.started": "2023-03-18T13:45:00.581862Z",
          "shell.execute_reply": "2023-03-18T13:45:00.602600Z"
        },
        "trusted": true,
        "id": "UtEkJNp92Rjn",
        "outputId": "6cf861dc-84bd-49fc-b2c3-c8a35a599c5a"
      },
      "execution_count": null,
      "outputs": [
        {
          "execution_count": 33,
          "output_type": "execute_result",
          "data": {
            "text/plain": "      id          intent\n0      1   AddToPlaylist\n1      2       PlayMusic\n2      3  BookRestaurant\n3      4   AddToPlaylist\n4      5       PlayMusic\n..   ...             ...\n295  296      GetWeather\n296  297   AddToPlaylist\n297  298  BookRestaurant\n298  299        RateBook\n299  300  BookRestaurant\n\n[300 rows x 2 columns]",
            "text/html": "<div>\n<style scoped>\n    .dataframe tbody tr th:only-of-type {\n        vertical-align: middle;\n    }\n\n    .dataframe tbody tr th {\n        vertical-align: top;\n    }\n\n    .dataframe thead th {\n        text-align: right;\n    }\n</style>\n<table border=\"1\" class=\"dataframe\">\n  <thead>\n    <tr style=\"text-align: right;\">\n      <th></th>\n      <th>id</th>\n      <th>intent</th>\n    </tr>\n  </thead>\n  <tbody>\n    <tr>\n      <th>0</th>\n      <td>1</td>\n      <td>AddToPlaylist</td>\n    </tr>\n    <tr>\n      <th>1</th>\n      <td>2</td>\n      <td>PlayMusic</td>\n    </tr>\n    <tr>\n      <th>2</th>\n      <td>3</td>\n      <td>BookRestaurant</td>\n    </tr>\n    <tr>\n      <th>3</th>\n      <td>4</td>\n      <td>AddToPlaylist</td>\n    </tr>\n    <tr>\n      <th>4</th>\n      <td>5</td>\n      <td>PlayMusic</td>\n    </tr>\n    <tr>\n      <th>...</th>\n      <td>...</td>\n      <td>...</td>\n    </tr>\n    <tr>\n      <th>295</th>\n      <td>296</td>\n      <td>GetWeather</td>\n    </tr>\n    <tr>\n      <th>296</th>\n      <td>297</td>\n      <td>AddToPlaylist</td>\n    </tr>\n    <tr>\n      <th>297</th>\n      <td>298</td>\n      <td>BookRestaurant</td>\n    </tr>\n    <tr>\n      <th>298</th>\n      <td>299</td>\n      <td>RateBook</td>\n    </tr>\n    <tr>\n      <th>299</th>\n      <td>300</td>\n      <td>BookRestaurant</td>\n    </tr>\n  </tbody>\n</table>\n<p>300 rows × 2 columns</p>\n</div>"
          },
          "metadata": {}
        }
      ]
    },
    {
      "cell_type": "code",
      "source": [
        "test"
      ],
      "metadata": {
        "execution": {
          "iopub.status.busy": "2023-03-18T13:45:35.504030Z",
          "iopub.execute_input": "2023-03-18T13:45:35.504721Z",
          "iopub.status.idle": "2023-03-18T13:45:35.516611Z",
          "shell.execute_reply.started": "2023-03-18T13:45:35.504681Z",
          "shell.execute_reply": "2023-03-18T13:45:35.515342Z"
        },
        "trusted": true,
        "id": "9RF8gfF92Rjn",
        "outputId": "ce326497-1557-4e1a-eb02-29a855881ab4"
      },
      "execution_count": null,
      "outputs": [
        {
          "execution_count": 38,
          "output_type": "execute_result",
          "data": {
            "text/plain": "      id                                          utterance\n0      1   add this tune to my playlist guest list mashable\n1      2  i d like to listen to the song the natural farmer\n2      3  i need a table for 8 people at a restaurant in...\n3      4  open the canciones del recuerdo playlist and p...\n4      5  i want to hear something from the top-fifty by...\n..   ...                                                ...\n295  296  show weather forecast in west wildwood south c...\n296  297     add this track to the playlist hits of the 70s\n297  298  i want to eat at a food truck this week with m...\n298  299                   rate company for gertrude 4 of 6\n299  300  i need a table for four at a pub in heard isla...\n\n[300 rows x 2 columns]",
            "text/html": "<div>\n<style scoped>\n    .dataframe tbody tr th:only-of-type {\n        vertical-align: middle;\n    }\n\n    .dataframe tbody tr th {\n        vertical-align: top;\n    }\n\n    .dataframe thead th {\n        text-align: right;\n    }\n</style>\n<table border=\"1\" class=\"dataframe\">\n  <thead>\n    <tr style=\"text-align: right;\">\n      <th></th>\n      <th>id</th>\n      <th>utterance</th>\n    </tr>\n  </thead>\n  <tbody>\n    <tr>\n      <th>0</th>\n      <td>1</td>\n      <td>add this tune to my playlist guest list mashable</td>\n    </tr>\n    <tr>\n      <th>1</th>\n      <td>2</td>\n      <td>i d like to listen to the song the natural farmer</td>\n    </tr>\n    <tr>\n      <th>2</th>\n      <td>3</td>\n      <td>i need a table for 8 people at a restaurant in...</td>\n    </tr>\n    <tr>\n      <th>3</th>\n      <td>4</td>\n      <td>open the canciones del recuerdo playlist and p...</td>\n    </tr>\n    <tr>\n      <th>4</th>\n      <td>5</td>\n      <td>i want to hear something from the top-fifty by...</td>\n    </tr>\n    <tr>\n      <th>...</th>\n      <td>...</td>\n      <td>...</td>\n    </tr>\n    <tr>\n      <th>295</th>\n      <td>296</td>\n      <td>show weather forecast in west wildwood south c...</td>\n    </tr>\n    <tr>\n      <th>296</th>\n      <td>297</td>\n      <td>add this track to the playlist hits of the 70s</td>\n    </tr>\n    <tr>\n      <th>297</th>\n      <td>298</td>\n      <td>i want to eat at a food truck this week with m...</td>\n    </tr>\n    <tr>\n      <th>298</th>\n      <td>299</td>\n      <td>rate company for gertrude 4 of 6</td>\n    </tr>\n    <tr>\n      <th>299</th>\n      <td>300</td>\n      <td>i need a table for four at a pub in heard isla...</td>\n    </tr>\n  </tbody>\n</table>\n<p>300 rows × 2 columns</p>\n</div>"
          },
          "metadata": {}
        }
      ]
    },
    {
      "cell_type": "code",
      "source": [
        "test[\"utterance\"].head(20)"
      ],
      "metadata": {
        "execution": {
          "iopub.status.busy": "2023-03-18T13:45:38.133224Z",
          "iopub.execute_input": "2023-03-18T13:45:38.133946Z",
          "iopub.status.idle": "2023-03-18T13:45:38.142302Z",
          "shell.execute_reply.started": "2023-03-18T13:45:38.133909Z",
          "shell.execute_reply": "2023-03-18T13:45:38.141093Z"
        },
        "trusted": true,
        "id": "DCiYiw4S2Rjo",
        "outputId": "f27e8180-f420-402e-f50e-1586cfc491dd"
      },
      "execution_count": null,
      "outputs": [
        {
          "execution_count": 39,
          "output_type": "execute_result",
          "data": {
            "text/plain": "0      add this tune to my playlist guest list mashable\n1     i d like to listen to the song the natural farmer\n2     i need a table for 8 people at a restaurant in...\n3     open the canciones del recuerdo playlist and p...\n4     i want to hear something from the top-fifty by...\n5     i rate the mathematical magpie chronicle a 0 of 6\n6     show the movie schedule of animated movies clo...\n7     what time is careful  he might hear you playin...\n8      i m looking to get a seat at a brasserie in togo\n9         i need a table for 8 during midday in montana\n10              play rain by subliminal on groove shark\n11    what animated movies are playing close by at f...\n12                      add album to bajo las estrellas\n13                       i am giving this novel 3 stars\n14    i need to episodes for the tv series  fast foo...\n15    book a reservation for seven people at a steak...\n16    reserve a spotat the food truck twelve weeks f...\n17    where is the nearest movie theatre that is pla...\n18    add lisa dalbello to my 2015 cma awards nomine...\n19          can i have the movie schedule for right now\nName: utterance, dtype: object"
          },
          "metadata": {}
        }
      ]
    },
    {
      "cell_type": "code",
      "source": [
        "predictions, raw_outputs = model.predict(list(test[\"utterance\"]))"
      ],
      "metadata": {
        "execution": {
          "iopub.status.busy": "2023-03-18T13:45:39.033504Z",
          "iopub.execute_input": "2023-03-18T13:45:39.034470Z",
          "iopub.status.idle": "2023-03-18T13:45:40.700525Z",
          "shell.execute_reply.started": "2023-03-18T13:45:39.034427Z",
          "shell.execute_reply": "2023-03-18T13:45:40.699275Z"
        },
        "trusted": true,
        "id": "ij9b_Y022Rjo",
        "outputId": "82305952-1a43-45bc-a2c8-357f44e726b1",
        "colab": {
          "referenced_widgets": [
            "e5f6a4f80bf746f78494f2dd5c924d0b",
            "5e8ba1c67d704c1d958495a4181bab9a"
          ]
        }
      },
      "execution_count": null,
      "outputs": [
        {
          "output_type": "display_data",
          "data": {
            "text/plain": "  0%|          | 0/300 [00:00<?, ?it/s]",
            "application/vnd.jupyter.widget-view+json": {
              "version_major": 2,
              "version_minor": 0,
              "model_id": "e5f6a4f80bf746f78494f2dd5c924d0b"
            }
          },
          "metadata": {}
        },
        {
          "output_type": "display_data",
          "data": {
            "text/plain": "  0%|          | 0/38 [00:00<?, ?it/s]",
            "application/vnd.jupyter.widget-view+json": {
              "version_major": 2,
              "version_minor": 0,
              "model_id": "5e8ba1c67d704c1d958495a4181bab9a"
            }
          },
          "metadata": {}
        }
      ]
    },
    {
      "cell_type": "code",
      "source": [
        "predictions"
      ],
      "metadata": {
        "execution": {
          "iopub.status.busy": "2023-03-18T13:45:43.605149Z",
          "iopub.execute_input": "2023-03-18T13:45:43.605563Z",
          "iopub.status.idle": "2023-03-18T13:45:43.614123Z",
          "shell.execute_reply.started": "2023-03-18T13:45:43.605520Z",
          "shell.execute_reply": "2023-03-18T13:45:43.612835Z"
        },
        "trusted": true,
        "id": "nyFflgJU2Rjo",
        "outputId": "bba8a9eb-e3c3-486e-f3ec-0872abe43e8a"
      },
      "execution_count": null,
      "outputs": [
        {
          "execution_count": 41,
          "output_type": "execute_result",
          "data": {
            "text/plain": "array([6, 4, 3, 1, 1, 2, 5, 5, 3, 3, 1, 5, 6, 2, 4, 3, 3, 5, 6, 5, 1, 4,\n       6, 2, 2, 2, 3, 0, 0, 4, 3, 5, 2, 3, 6, 4, 2, 6, 4, 5, 2, 3, 5, 3,\n       3, 4, 0, 5, 5, 4, 3, 5, 6, 4, 3, 2, 4, 6, 5, 0, 0, 0, 2, 5, 5, 5,\n       5, 0, 4, 6, 6, 1, 5, 0, 6, 3, 4, 2, 0, 6, 2, 0, 1, 3, 4, 5, 6, 2,\n       5, 3, 1, 1, 2, 0, 1, 6, 2, 6, 3, 1, 2, 6, 0, 5, 1, 0, 5, 2, 6, 1,\n       0, 6, 2, 2, 1, 1, 2, 1, 2, 0, 6, 3, 1, 3, 1, 1, 1, 6, 2, 6, 2, 6,\n       2, 6, 3, 0, 4, 0, 6, 4, 2, 4, 6, 1, 6, 3, 4, 2, 1, 2, 0, 4, 6, 3,\n       2, 3, 3, 4, 0, 1, 4, 4, 1, 0, 5, 6, 0, 0, 3, 6, 1, 6, 1, 3, 6, 3,\n       6, 5, 1, 4, 1, 2, 6, 4, 4, 0, 6, 0, 6, 1, 2, 5, 5, 1, 1, 2, 6, 3,\n       3, 4, 1, 5, 5, 3, 6, 1, 4, 3, 0, 3, 1, 5, 4, 5, 0, 2, 5, 0, 0, 0,\n       1, 0, 5, 3, 2, 2, 3, 5, 5, 5, 6, 3, 1, 6, 4, 6, 1, 1, 3, 3, 4, 0,\n       3, 1, 2, 0, 3, 2, 2, 6, 6, 6, 6, 5, 0, 5, 1, 2, 0, 4, 2, 5, 1, 6,\n       6, 1, 1, 5, 3, 4, 2, 0, 6, 6, 0, 0, 0, 5, 3, 4, 1, 1, 4, 3, 4, 1,\n       3, 0, 5, 0, 5, 5, 6, 3, 5, 0, 6, 3, 2, 3])"
          },
          "metadata": {}
        }
      ]
    },
    {
      "cell_type": "code",
      "source": [
        "test[\"intent\"]=predictions"
      ],
      "metadata": {
        "execution": {
          "iopub.status.busy": "2023-03-18T13:45:48.079371Z",
          "iopub.execute_input": "2023-03-18T13:45:48.080104Z",
          "iopub.status.idle": "2023-03-18T13:45:48.086135Z",
          "shell.execute_reply.started": "2023-03-18T13:45:48.080057Z",
          "shell.execute_reply": "2023-03-18T13:45:48.084812Z"
        },
        "trusted": true,
        "id": "JjzThTID2Rjo"
      },
      "execution_count": null,
      "outputs": []
    },
    {
      "cell_type": "code",
      "source": [
        "test[\"intent\"]=test[\"intent\"].replace(0,\"GetWeather\")\n",
        "test[\"intent\"]=test[\"intent\"].replace(1,\"PlayMusic\")\n",
        "test[\"intent\"]=test[\"intent\"].replace(2,\"RateBook\")\n",
        "test[\"intent\"]=test[\"intent\"].replace(3,\"BookRestaurant\")\n",
        "test[\"intent\"]=test[\"intent\"].replace(4,\"SearchCreativeWork\")\n",
        "test[\"intent\"]=test[\"intent\"].replace(5,\"SearchScreeningEvent\")\n",
        "test[\"intent\"]=test[\"intent\"].replace(6,\"AddToPlaylist\")\n"
      ],
      "metadata": {
        "execution": {
          "iopub.status.busy": "2023-03-18T13:45:48.393002Z",
          "iopub.execute_input": "2023-03-18T13:45:48.393367Z",
          "iopub.status.idle": "2023-03-18T13:45:48.405447Z",
          "shell.execute_reply.started": "2023-03-18T13:45:48.393332Z",
          "shell.execute_reply": "2023-03-18T13:45:48.404211Z"
        },
        "trusted": true,
        "id": "4V8SECdH2Rjo"
      },
      "execution_count": null,
      "outputs": []
    },
    {
      "cell_type": "code",
      "source": [
        "test=test.drop(\"utterance\",axis=1)"
      ],
      "metadata": {
        "execution": {
          "iopub.status.busy": "2023-03-18T13:45:52.688335Z",
          "iopub.execute_input": "2023-03-18T13:45:52.688756Z",
          "iopub.status.idle": "2023-03-18T13:45:52.695958Z",
          "shell.execute_reply.started": "2023-03-18T13:45:52.688722Z",
          "shell.execute_reply": "2023-03-18T13:45:52.694715Z"
        },
        "trusted": true,
        "id": "_3wUsTao2Rjo"
      },
      "execution_count": null,
      "outputs": []
    },
    {
      "cell_type": "code",
      "source": [
        "test.to_csv(\"bert_base_case.csv\",index=False)\n",
        "test"
      ],
      "metadata": {
        "execution": {
          "iopub.status.busy": "2023-03-18T13:46:01.948404Z",
          "iopub.execute_input": "2023-03-18T13:46:01.949323Z",
          "iopub.status.idle": "2023-03-18T13:46:01.966063Z",
          "shell.execute_reply.started": "2023-03-18T13:46:01.949270Z",
          "shell.execute_reply": "2023-03-18T13:46:01.965148Z"
        },
        "trusted": true,
        "id": "c5opSu_s2Rjo",
        "outputId": "ff1edcfb-74e3-48ce-932a-0e181e655709"
      },
      "execution_count": null,
      "outputs": [
        {
          "execution_count": 45,
          "output_type": "execute_result",
          "data": {
            "text/plain": "      id              intent\n0      1       AddToPlaylist\n1      2  SearchCreativeWork\n2      3      BookRestaurant\n3      4           PlayMusic\n4      5           PlayMusic\n..   ...                 ...\n295  296          GetWeather\n296  297       AddToPlaylist\n297  298      BookRestaurant\n298  299            RateBook\n299  300      BookRestaurant\n\n[300 rows x 2 columns]",
            "text/html": "<div>\n<style scoped>\n    .dataframe tbody tr th:only-of-type {\n        vertical-align: middle;\n    }\n\n    .dataframe tbody tr th {\n        vertical-align: top;\n    }\n\n    .dataframe thead th {\n        text-align: right;\n    }\n</style>\n<table border=\"1\" class=\"dataframe\">\n  <thead>\n    <tr style=\"text-align: right;\">\n      <th></th>\n      <th>id</th>\n      <th>intent</th>\n    </tr>\n  </thead>\n  <tbody>\n    <tr>\n      <th>0</th>\n      <td>1</td>\n      <td>AddToPlaylist</td>\n    </tr>\n    <tr>\n      <th>1</th>\n      <td>2</td>\n      <td>SearchCreativeWork</td>\n    </tr>\n    <tr>\n      <th>2</th>\n      <td>3</td>\n      <td>BookRestaurant</td>\n    </tr>\n    <tr>\n      <th>3</th>\n      <td>4</td>\n      <td>PlayMusic</td>\n    </tr>\n    <tr>\n      <th>4</th>\n      <td>5</td>\n      <td>PlayMusic</td>\n    </tr>\n    <tr>\n      <th>...</th>\n      <td>...</td>\n      <td>...</td>\n    </tr>\n    <tr>\n      <th>295</th>\n      <td>296</td>\n      <td>GetWeather</td>\n    </tr>\n    <tr>\n      <th>296</th>\n      <td>297</td>\n      <td>AddToPlaylist</td>\n    </tr>\n    <tr>\n      <th>297</th>\n      <td>298</td>\n      <td>BookRestaurant</td>\n    </tr>\n    <tr>\n      <th>298</th>\n      <td>299</td>\n      <td>RateBook</td>\n    </tr>\n    <tr>\n      <th>299</th>\n      <td>300</td>\n      <td>BookRestaurant</td>\n    </tr>\n  </tbody>\n</table>\n<p>300 rows × 2 columns</p>\n</div>"
          },
          "metadata": {}
        }
      ]
    },
    {
      "cell_type": "code",
      "source": [
        "sample"
      ],
      "metadata": {
        "execution": {
          "iopub.status.busy": "2023-03-18T13:32:04.807766Z",
          "iopub.execute_input": "2023-03-18T13:32:04.808786Z",
          "iopub.status.idle": "2023-03-18T13:32:04.823877Z",
          "shell.execute_reply.started": "2023-03-18T13:32:04.808748Z",
          "shell.execute_reply": "2023-03-18T13:32:04.822832Z"
        },
        "trusted": true,
        "id": "D5alwYzt2Rjp",
        "outputId": "d84c2495-fa32-42a7-fc7c-50cb3afbd764"
      },
      "execution_count": null,
      "outputs": [
        {
          "execution_count": 22,
          "output_type": "execute_result",
          "data": {
            "text/plain": "      id         intent\n0      1  AddToPlaylist\n1      2            NaN\n2      3            NaN\n3      4            NaN\n4      5            NaN\n..   ...            ...\n295  296            NaN\n296  297            NaN\n297  298            NaN\n298  299            NaN\n299  300            NaN\n\n[300 rows x 2 columns]",
            "text/html": "<div>\n<style scoped>\n    .dataframe tbody tr th:only-of-type {\n        vertical-align: middle;\n    }\n\n    .dataframe tbody tr th {\n        vertical-align: top;\n    }\n\n    .dataframe thead th {\n        text-align: right;\n    }\n</style>\n<table border=\"1\" class=\"dataframe\">\n  <thead>\n    <tr style=\"text-align: right;\">\n      <th></th>\n      <th>id</th>\n      <th>intent</th>\n    </tr>\n  </thead>\n  <tbody>\n    <tr>\n      <th>0</th>\n      <td>1</td>\n      <td>AddToPlaylist</td>\n    </tr>\n    <tr>\n      <th>1</th>\n      <td>2</td>\n      <td>NaN</td>\n    </tr>\n    <tr>\n      <th>2</th>\n      <td>3</td>\n      <td>NaN</td>\n    </tr>\n    <tr>\n      <th>3</th>\n      <td>4</td>\n      <td>NaN</td>\n    </tr>\n    <tr>\n      <th>4</th>\n      <td>5</td>\n      <td>NaN</td>\n    </tr>\n    <tr>\n      <th>...</th>\n      <td>...</td>\n      <td>...</td>\n    </tr>\n    <tr>\n      <th>295</th>\n      <td>296</td>\n      <td>NaN</td>\n    </tr>\n    <tr>\n      <th>296</th>\n      <td>297</td>\n      <td>NaN</td>\n    </tr>\n    <tr>\n      <th>297</th>\n      <td>298</td>\n      <td>NaN</td>\n    </tr>\n    <tr>\n      <th>298</th>\n      <td>299</td>\n      <td>NaN</td>\n    </tr>\n    <tr>\n      <th>299</th>\n      <td>300</td>\n      <td>NaN</td>\n    </tr>\n  </tbody>\n</table>\n<p>300 rows × 2 columns</p>\n</div>"
          },
          "metadata": {}
        }
      ]
    },
    {
      "cell_type": "markdown",
      "source": [
        "#transformers"
      ],
      "metadata": {
        "id": "u7KnXbxr2Rjp"
      }
    },
    {
      "cell_type": "code",
      "source": [],
      "metadata": {
        "id": "LWC3ZdOT2Rjp"
      },
      "execution_count": null,
      "outputs": []
    }
  ]
}