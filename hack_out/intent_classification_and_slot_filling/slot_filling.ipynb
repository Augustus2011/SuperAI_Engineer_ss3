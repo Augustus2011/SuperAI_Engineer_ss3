{
  "metadata": {
    "kernelspec": {
      "language": "python",
      "display_name": "Python 3",
      "name": "python3"
    },
    "language_info": {
      "name": "python",
      "version": "3.7.12",
      "mimetype": "text/x-python",
      "codemirror_mode": {
        "name": "ipython",
        "version": 3
      },
      "pygments_lexer": "ipython3",
      "nbconvert_exporter": "python",
      "file_extension": ".py"
    },
    "colab": {
      "provenance": []
    }
  },
  "nbformat_minor": 0,
  "nbformat": 4,
  "cells": [
    {
      "cell_type": "code",
      "source": [
        "# This Python 3 environment comes with many helpful analytics libraries installed\n",
        "# It is defined by the kaggle/python Docker image: https://github.com/kaggle/docker-python\n",
        "# For example, here's several helpful packages to load\n",
        "\n",
        "import numpy as np # linear algebra\n",
        "import pandas as pd # data processing, CSV file I/O (e.g. pd.read_csv)\n",
        "\n",
        "# Input data files are available in the read-only \"../input/\" directory\n",
        "# For example, running this (by clicking run or pressing Shift+Enter) will list all files under the input directory\n",
        "\n",
        "import os\n",
        "for dirname, _, filenames in os.walk('/kaggle/input'):\n",
        "    for filename in filenames:\n",
        "        print(os.path.join(dirname, filename))\n",
        "\n",
        "# You can write up to 20GB to the current directory (/kaggle/working/) that gets preserved as output when you create a version using \"Save & Run All\" \n",
        "# You can also write temporary files to /kaggle/temp/, but they won't be saved outside of the current session"
      ],
      "metadata": {
        "_uuid": "8f2839f25d086af736a60e9eeb907d3b93b6e0e5",
        "_cell_guid": "b1076dfc-b9ad-4769-8c92-a6c4dae69d19",
        "execution": {
          "iopub.status.busy": "2023-03-18T18:56:00.570024Z",
          "iopub.execute_input": "2023-03-18T18:56:00.570326Z",
          "iopub.status.idle": "2023-03-18T18:56:00.615475Z",
          "shell.execute_reply.started": "2023-03-18T18:56:00.570298Z",
          "shell.execute_reply": "2023-03-18T18:56:00.614408Z"
        },
        "trusted": true,
        "id": "HRZopAPLQCAg",
        "outputId": "69442a29-1b56-49bc-f5c4-11775843ff0e"
      },
      "execution_count": null,
      "outputs": [
        {
          "name": "stdout",
          "text": "/kaggle/input/hackathon-online-nlu-slot-filling/train.json\n/kaggle/input/hackathon-online-nlu-slot-filling/small_test.csv\n/kaggle/input/hackathon-online-nlu-slot-filling/test.csv\n/kaggle/input/hackathon-online-nlu-slot-filling/valid.json\n/kaggle/input/hackathon-online-nlu-slot-filling/slot_sample_submission.csv\n/kaggle/input/valid-seccond/bert_stn (1).csv\n/kaggle/input/validation-from-first/bert_stn.csv\n",
          "output_type": "stream"
        }
      ]
    },
    {
      "cell_type": "code",
      "source": [
        "!pip install simpletransformers"
      ],
      "metadata": {
        "execution": {
          "iopub.status.busy": "2023-03-18T18:56:00.618702Z",
          "iopub.execute_input": "2023-03-18T18:56:00.619037Z",
          "iopub.status.idle": "2023-03-18T18:56:25.445142Z",
          "shell.execute_reply.started": "2023-03-18T18:56:00.619009Z",
          "shell.execute_reply": "2023-03-18T18:56:25.443927Z"
        },
        "trusted": true,
        "id": "HZ5fnQxOQCAi",
        "outputId": "10058317-0a88-4c05-e34a-06c8ac54c27e"
      },
      "execution_count": null,
      "outputs": [
        {
          "name": "stdout",
          "text": "Collecting simpletransformers\n  Downloading simpletransformers-0.63.9-py3-none-any.whl (250 kB)\n\u001b[2K     \u001b[90m━━━━━━━━━━━━━━━━━━━━━━━━━━━━━━━━━━━━━━━\u001b[0m \u001b[32m250.5/250.5 kB\u001b[0m \u001b[31m4.9 MB/s\u001b[0m eta \u001b[36m0:00:00\u001b[0ma \u001b[36m0:00:01\u001b[0m\n\u001b[?25hRequirement already satisfied: requests in /opt/conda/lib/python3.7/site-packages (from simpletransformers) (2.28.2)\nRequirement already satisfied: scipy in /opt/conda/lib/python3.7/site-packages (from simpletransformers) (1.7.3)\nRequirement already satisfied: transformers>=4.6.0 in /opt/conda/lib/python3.7/site-packages (from simpletransformers) (4.26.1)\nRequirement already satisfied: tensorboard in /opt/conda/lib/python3.7/site-packages (from simpletransformers) (2.11.2)\nRequirement already satisfied: sentencepiece in /opt/conda/lib/python3.7/site-packages (from simpletransformers) (0.1.97)\nRequirement already satisfied: tokenizers in /opt/conda/lib/python3.7/site-packages (from simpletransformers) (0.13.2)\nRequirement already satisfied: numpy in /opt/conda/lib/python3.7/site-packages (from simpletransformers) (1.21.6)\nCollecting seqeval\n  Downloading seqeval-1.2.2.tar.gz (43 kB)\n\u001b[2K     \u001b[90m━━━━━━━━━━━━━━━━━━━━━━━━━━━━━━━━━━━━━━━━\u001b[0m \u001b[32m43.6/43.6 kB\u001b[0m \u001b[31m2.9 MB/s\u001b[0m eta \u001b[36m0:00:00\u001b[0m\n\u001b[?25h  Preparing metadata (setup.py) ... \u001b[?25ldone\n\u001b[?25hCollecting streamlit\n  Downloading streamlit-1.20.0-py2.py3-none-any.whl (9.6 MB)\n\u001b[2K     \u001b[90m━━━━━━━━━━━━━━━━━━━━━━━━━━━━━━━━━━━━━━━━\u001b[0m \u001b[32m9.6/9.6 MB\u001b[0m \u001b[31m67.2 MB/s\u001b[0m eta \u001b[36m0:00:00\u001b[0m:00:01\u001b[0m0:01\u001b[0m\n\u001b[?25hRequirement already satisfied: datasets in /opt/conda/lib/python3.7/site-packages (from simpletransformers) (2.1.0)\nRequirement already satisfied: wandb>=0.10.32 in /opt/conda/lib/python3.7/site-packages (from simpletransformers) (0.13.10)\nRequirement already satisfied: pandas in /opt/conda/lib/python3.7/site-packages (from simpletransformers) (1.3.5)\nRequirement already satisfied: regex in /opt/conda/lib/python3.7/site-packages (from simpletransformers) (2021.11.10)\nRequirement already satisfied: scikit-learn in /opt/conda/lib/python3.7/site-packages (from simpletransformers) (1.0.2)\nRequirement already satisfied: tqdm>=4.47.0 in /opt/conda/lib/python3.7/site-packages (from simpletransformers) (4.64.1)\nRequirement already satisfied: pyyaml>=5.1 in /opt/conda/lib/python3.7/site-packages (from transformers>=4.6.0->simpletransformers) (6.0)\nRequirement already satisfied: filelock in /opt/conda/lib/python3.7/site-packages (from transformers>=4.6.0->simpletransformers) (3.9.0)\nRequirement already satisfied: importlib-metadata in /opt/conda/lib/python3.7/site-packages (from transformers>=4.6.0->simpletransformers) (4.11.4)\nRequirement already satisfied: huggingface-hub<1.0,>=0.11.0 in /opt/conda/lib/python3.7/site-packages (from transformers>=4.6.0->simpletransformers) (0.12.1)\nRequirement already satisfied: packaging>=20.0 in /opt/conda/lib/python3.7/site-packages (from transformers>=4.6.0->simpletransformers) (23.0)\nRequirement already satisfied: setproctitle in /opt/conda/lib/python3.7/site-packages (from wandb>=0.10.32->simpletransformers) (1.3.2)\nRequirement already satisfied: pathtools in /opt/conda/lib/python3.7/site-packages (from wandb>=0.10.32->simpletransformers) (0.1.2)\nRequirement already satisfied: docker-pycreds>=0.4.0 in /opt/conda/lib/python3.7/site-packages (from wandb>=0.10.32->simpletransformers) (0.4.0)\nRequirement already satisfied: sentry-sdk>=1.0.0 in /opt/conda/lib/python3.7/site-packages (from wandb>=0.10.32->simpletransformers) (1.15.0)\nRequirement already satisfied: appdirs>=1.4.3 in /opt/conda/lib/python3.7/site-packages (from wandb>=0.10.32->simpletransformers) (1.4.4)\nRequirement already satisfied: Click!=8.0.0,>=7.0 in /opt/conda/lib/python3.7/site-packages (from wandb>=0.10.32->simpletransformers) (8.1.3)\nRequirement already satisfied: typing-extensions in /opt/conda/lib/python3.7/site-packages (from wandb>=0.10.32->simpletransformers) (4.4.0)\nRequirement already satisfied: setuptools in /opt/conda/lib/python3.7/site-packages (from wandb>=0.10.32->simpletransformers) (59.8.0)\nRequirement already satisfied: protobuf!=4.21.0,<5,>=3.12.0 in /opt/conda/lib/python3.7/site-packages (from wandb>=0.10.32->simpletransformers) (3.20.3)\nRequirement already satisfied: psutil>=5.0.0 in /opt/conda/lib/python3.7/site-packages (from wandb>=0.10.32->simpletransformers) (5.9.3)\nRequirement already satisfied: GitPython>=1.0.0 in /opt/conda/lib/python3.7/site-packages (from wandb>=0.10.32->simpletransformers) (3.1.30)\nRequirement already satisfied: certifi>=2017.4.17 in /opt/conda/lib/python3.7/site-packages (from requests->simpletransformers) (2022.12.7)\nRequirement already satisfied: idna<4,>=2.5 in /opt/conda/lib/python3.7/site-packages (from requests->simpletransformers) (3.4)\nRequirement already satisfied: urllib3<1.27,>=1.21.1 in /opt/conda/lib/python3.7/site-packages (from requests->simpletransformers) (1.26.14)\nRequirement already satisfied: charset-normalizer<4,>=2 in /opt/conda/lib/python3.7/site-packages (from requests->simpletransformers) (2.1.1)\nRequirement already satisfied: fsspec[http]>=2021.05.0 in /opt/conda/lib/python3.7/site-packages (from datasets->simpletransformers) (2023.1.0)\nRequirement already satisfied: pyarrow>=5.0.0 in /opt/conda/lib/python3.7/site-packages (from datasets->simpletransformers) (5.0.0)\nRequirement already satisfied: aiohttp in /opt/conda/lib/python3.7/site-packages (from datasets->simpletransformers) (3.8.3)\nRequirement already satisfied: multiprocess in /opt/conda/lib/python3.7/site-packages (from datasets->simpletransformers) (0.70.14)\nRequirement already satisfied: responses<0.19 in /opt/conda/lib/python3.7/site-packages (from datasets->simpletransformers) (0.18.0)\nRequirement already satisfied: xxhash in /opt/conda/lib/python3.7/site-packages (from datasets->simpletransformers) (3.2.0)\nRequirement already satisfied: dill in /opt/conda/lib/python3.7/site-packages (from datasets->simpletransformers) (0.3.6)\nRequirement already satisfied: python-dateutil>=2.7.3 in /opt/conda/lib/python3.7/site-packages (from pandas->simpletransformers) (2.8.2)\nRequirement already satisfied: pytz>=2017.3 in /opt/conda/lib/python3.7/site-packages (from pandas->simpletransformers) (2022.7.1)\nRequirement already satisfied: joblib>=0.11 in /opt/conda/lib/python3.7/site-packages (from scikit-learn->simpletransformers) (1.2.0)\nRequirement already satisfied: threadpoolctl>=2.0.0 in /opt/conda/lib/python3.7/site-packages (from scikit-learn->simpletransformers) (3.1.0)\nCollecting blinker>=1.0.0\n  Downloading blinker-1.5-py2.py3-none-any.whl (12 kB)\nRequirement already satisfied: altair<5,>=3.2.0 in /opt/conda/lib/python3.7/site-packages (from streamlit->simpletransformers) (4.2.2)\nRequirement already satisfied: tzlocal>=1.1 in /opt/conda/lib/python3.7/site-packages (from streamlit->simpletransformers) (4.2)\nCollecting validators>=0.2\n  Downloading validators-0.20.0.tar.gz (30 kB)\n  Preparing metadata (setup.py) ... \u001b[?25ldone\n\u001b[?25hCollecting watchdog\n  Downloading watchdog-2.3.1-py3-none-manylinux2014_x86_64.whl (80 kB)\n\u001b[2K     \u001b[90m━━━━━━━━━━━━━━━━━━━━━━━━━━━━━━━━━━━━━━━━\u001b[0m \u001b[32m80.6/80.6 kB\u001b[0m \u001b[31m8.7 MB/s\u001b[0m eta \u001b[36m0:00:00\u001b[0m\n\u001b[?25hRequirement already satisfied: toml in /opt/conda/lib/python3.7/site-packages (from streamlit->simpletransformers) (0.10.2)\nRequirement already satisfied: cachetools>=4.0 in /opt/conda/lib/python3.7/site-packages (from streamlit->simpletransformers) (4.2.4)\nRequirement already satisfied: tornado>=6.0.3 in /opt/conda/lib/python3.7/site-packages (from streamlit->simpletransformers) (6.1)\nRequirement already satisfied: semver in /opt/conda/lib/python3.7/site-packages (from streamlit->simpletransformers) (2.13.0)\nCollecting pydeck>=0.1.dev5\n  Downloading pydeck-0.8.0-py2.py3-none-any.whl (4.7 MB)\n\u001b[2K     \u001b[90m━━━━━━━━━━━━━━━━━━━━━━━━━━━━━━━━━━━━━━━━\u001b[0m \u001b[32m4.7/4.7 MB\u001b[0m \u001b[31m76.7 MB/s\u001b[0m eta \u001b[36m0:00:00\u001b[0m:00:01\u001b[0m\n\u001b[?25hRequirement already satisfied: pillow>=6.2.0 in /opt/conda/lib/python3.7/site-packages (from streamlit->simpletransformers) (9.4.0)\nRequirement already satisfied: rich>=10.11.0 in /opt/conda/lib/python3.7/site-packages (from streamlit->simpletransformers) (13.2.0)\nRequirement already satisfied: pympler>=0.9 in /opt/conda/lib/python3.7/site-packages (from streamlit->simpletransformers) (1.0.1)\nRequirement already satisfied: google-auth<3,>=1.6.3 in /opt/conda/lib/python3.7/site-packages (from tensorboard->simpletransformers) (1.35.0)\nRequirement already satisfied: wheel>=0.26 in /opt/conda/lib/python3.7/site-packages (from tensorboard->simpletransformers) (0.38.4)\nRequirement already satisfied: markdown>=2.6.8 in /opt/conda/lib/python3.7/site-packages (from tensorboard->simpletransformers) (3.4.1)\nRequirement already satisfied: google-auth-oauthlib<0.5,>=0.4.1 in /opt/conda/lib/python3.7/site-packages (from tensorboard->simpletransformers) (0.4.6)\nRequirement already satisfied: absl-py>=0.4 in /opt/conda/lib/python3.7/site-packages (from tensorboard->simpletransformers) (1.4.0)\nRequirement already satisfied: werkzeug>=1.0.1 in /opt/conda/lib/python3.7/site-packages (from tensorboard->simpletransformers) (2.2.3)\nRequirement already satisfied: tensorboard-plugin-wit>=1.6.0 in /opt/conda/lib/python3.7/site-packages (from tensorboard->simpletransformers) (1.8.1)\nRequirement already satisfied: grpcio>=1.24.3 in /opt/conda/lib/python3.7/site-packages (from tensorboard->simpletransformers) (1.51.1)\nRequirement already satisfied: tensorboard-data-server<0.7.0,>=0.6.0 in /opt/conda/lib/python3.7/site-packages (from tensorboard->simpletransformers) (0.6.1)\nRequirement already satisfied: jsonschema>=3.0 in /opt/conda/lib/python3.7/site-packages (from altair<5,>=3.2.0->streamlit->simpletransformers) (4.17.3)\nRequirement already satisfied: entrypoints in /opt/conda/lib/python3.7/site-packages (from altair<5,>=3.2.0->streamlit->simpletransformers) (0.4)\nRequirement already satisfied: toolz in /opt/conda/lib/python3.7/site-packages (from altair<5,>=3.2.0->streamlit->simpletransformers) (0.11.2)\nRequirement already satisfied: jinja2 in /opt/conda/lib/python3.7/site-packages (from altair<5,>=3.2.0->streamlit->simpletransformers) (3.1.2)\nRequirement already satisfied: six>=1.4.0 in /opt/conda/lib/python3.7/site-packages (from docker-pycreds>=0.4.0->wandb>=0.10.32->simpletransformers) (1.16.0)\nRequirement already satisfied: aiosignal>=1.1.2 in /opt/conda/lib/python3.7/site-packages (from aiohttp->datasets->simpletransformers) (1.3.1)\nRequirement already satisfied: attrs>=17.3.0 in /opt/conda/lib/python3.7/site-packages (from aiohttp->datasets->simpletransformers) (22.2.0)\nRequirement already satisfied: frozenlist>=1.1.1 in /opt/conda/lib/python3.7/site-packages (from aiohttp->datasets->simpletransformers) (1.3.3)\nRequirement already satisfied: asynctest==0.13.0 in /opt/conda/lib/python3.7/site-packages (from aiohttp->datasets->simpletransformers) (0.13.0)\nRequirement already satisfied: yarl<2.0,>=1.0 in /opt/conda/lib/python3.7/site-packages (from aiohttp->datasets->simpletransformers) (1.8.2)\nRequirement already satisfied: multidict<7.0,>=4.5 in /opt/conda/lib/python3.7/site-packages (from aiohttp->datasets->simpletransformers) (6.0.4)\nRequirement already satisfied: async-timeout<5.0,>=4.0.0a3 in /opt/conda/lib/python3.7/site-packages (from aiohttp->datasets->simpletransformers) (4.0.2)\nRequirement already satisfied: gitdb<5,>=4.0.1 in /opt/conda/lib/python3.7/site-packages (from GitPython>=1.0.0->wandb>=0.10.32->simpletransformers) (4.0.10)\nRequirement already satisfied: pyasn1-modules>=0.2.1 in /opt/conda/lib/python3.7/site-packages (from google-auth<3,>=1.6.3->tensorboard->simpletransformers) (0.2.8)\nRequirement already satisfied: rsa<5,>=3.1.4 in /opt/conda/lib/python3.7/site-packages (from google-auth<3,>=1.6.3->tensorboard->simpletransformers) (4.9)\nRequirement already satisfied: requests-oauthlib>=0.7.0 in /opt/conda/lib/python3.7/site-packages (from google-auth-oauthlib<0.5,>=0.4.1->tensorboard->simpletransformers) (1.3.1)\nRequirement already satisfied: zipp>=0.5 in /opt/conda/lib/python3.7/site-packages (from importlib-metadata->transformers>=4.6.0->simpletransformers) (3.11.0)\nRequirement already satisfied: pygments<3.0.0,>=2.6.0 in /opt/conda/lib/python3.7/site-packages (from rich>=10.11.0->streamlit->simpletransformers) (2.14.0)\nRequirement already satisfied: markdown-it-py<3.0.0,>=2.1.0 in /opt/conda/lib/python3.7/site-packages (from rich>=10.11.0->streamlit->simpletransformers) (2.1.0)\nRequirement already satisfied: pytz-deprecation-shim in /opt/conda/lib/python3.7/site-packages (from tzlocal>=1.1->streamlit->simpletransformers) (0.1.0.post0)\nRequirement already satisfied: backports.zoneinfo in /opt/conda/lib/python3.7/site-packages (from tzlocal>=1.1->streamlit->simpletransformers) (0.2.1)\nRequirement already satisfied: decorator>=3.4.0 in /opt/conda/lib/python3.7/site-packages (from validators>=0.2->streamlit->simpletransformers) (5.1.1)\nRequirement already satisfied: MarkupSafe>=2.1.1 in /opt/conda/lib/python3.7/site-packages (from werkzeug>=1.0.1->tensorboard->simpletransformers) (2.1.1)\nRequirement already satisfied: smmap<6,>=3.0.1 in /opt/conda/lib/python3.7/site-packages (from gitdb<5,>=4.0.1->GitPython>=1.0.0->wandb>=0.10.32->simpletransformers) (5.0.0)\nRequirement already satisfied: pkgutil-resolve-name>=1.3.10 in /opt/conda/lib/python3.7/site-packages (from jsonschema>=3.0->altair<5,>=3.2.0->streamlit->simpletransformers) (1.3.10)\nRequirement already satisfied: pyrsistent!=0.17.0,!=0.17.1,!=0.17.2,>=0.14.0 in /opt/conda/lib/python3.7/site-packages (from jsonschema>=3.0->altair<5,>=3.2.0->streamlit->simpletransformers) (0.19.3)\nRequirement already satisfied: importlib-resources>=1.4.0 in /opt/conda/lib/python3.7/site-packages (from jsonschema>=3.0->altair<5,>=3.2.0->streamlit->simpletransformers) (5.10.2)\nRequirement already satisfied: mdurl~=0.1 in /opt/conda/lib/python3.7/site-packages (from markdown-it-py<3.0.0,>=2.1.0->rich>=10.11.0->streamlit->simpletransformers) (0.1.2)\nRequirement already satisfied: pyasn1<0.5.0,>=0.4.6 in /opt/conda/lib/python3.7/site-packages (from pyasn1-modules>=0.2.1->google-auth<3,>=1.6.3->tensorboard->simpletransformers) (0.4.8)\nRequirement already satisfied: oauthlib>=3.0.0 in /opt/conda/lib/python3.7/site-packages (from requests-oauthlib>=0.7.0->google-auth-oauthlib<0.5,>=0.4.1->tensorboard->simpletransformers) (3.2.2)\nRequirement already satisfied: tzdata in /opt/conda/lib/python3.7/site-packages (from pytz-deprecation-shim->tzlocal>=1.1->streamlit->simpletransformers) (2022.7)\nBuilding wheels for collected packages: seqeval, validators\n  Building wheel for seqeval (setup.py) ... \u001b[?25ldone\n\u001b[?25h  Created wheel for seqeval: filename=seqeval-1.2.2-py3-none-any.whl size=16179 sha256=87106d5c8d300997e0ea246539d4abd9bcc4ddbf0b48348008441f3086292bb5\n  Stored in directory: /root/.cache/pip/wheels/b2/a1/b7/0d3b008d0c77cd57332d724b92cf7650b4185b493dc785f00a\n  Building wheel for validators (setup.py) ... \u001b[?25ldone\n\u001b[?25h  Created wheel for validators: filename=validators-0.20.0-py3-none-any.whl size=19581 sha256=d22568c132f5439e9179df94179844c1a5f6f59bf1c7ce9edde37279cf281b49\n  Stored in directory: /root/.cache/pip/wheels/3d/7c/f1/f87f51d07a2513aa0fb128d5eb504da1fcef9c87475d9eef64\nSuccessfully built seqeval validators\nInstalling collected packages: watchdog, validators, blinker, pydeck, seqeval, streamlit, simpletransformers\nSuccessfully installed blinker-1.5 pydeck-0.8.0 seqeval-1.2.2 simpletransformers-0.63.9 streamlit-1.20.0 validators-0.20.0 watchdog-2.3.1\n\u001b[33mWARNING: Running pip as the 'root' user can result in broken permissions and conflicting behaviour with the system package manager. It is recommended to use a virtual environment instead: https://pip.pypa.io/warnings/venv\u001b[0m\u001b[33m\n\u001b[0m",
          "output_type": "stream"
        }
      ]
    },
    {
      "cell_type": "code",
      "source": [
        "import seaborn as sns\n",
        "import matplotlib.pyplot as plt\n",
        "import sklearn"
      ],
      "metadata": {
        "execution": {
          "iopub.status.busy": "2023-03-18T18:56:25.447497Z",
          "iopub.execute_input": "2023-03-18T18:56:25.448202Z",
          "iopub.status.idle": "2023-03-18T18:56:26.069645Z",
          "shell.execute_reply.started": "2023-03-18T18:56:25.448153Z",
          "shell.execute_reply": "2023-03-18T18:56:26.068614Z"
        },
        "trusted": true,
        "id": "1PvJ9R_7QCAj"
      },
      "execution_count": null,
      "outputs": []
    },
    {
      "cell_type": "code",
      "source": [
        "valid=pd.read_json(\"/kaggle/input/hackathon-online-nlu-slot-filling/valid.json\")\n",
        "train=pd.read_json(\"/kaggle/input/hackathon-online-nlu-slot-filling/train.json\")\n",
        "test=pd.read_csv(\"/kaggle/input/hackathon-online-nlu-slot-filling/test.csv\")\n",
        "sample=pd.read_csv(\"/kaggle/input/hackathon-online-nlu-slot-filling/slot_sample_submission.csv\")\n"
      ],
      "metadata": {
        "execution": {
          "iopub.status.busy": "2023-03-18T18:56:26.072267Z",
          "iopub.execute_input": "2023-03-18T18:56:26.073085Z",
          "iopub.status.idle": "2023-03-18T18:56:26.170902Z",
          "shell.execute_reply.started": "2023-03-18T18:56:26.073046Z",
          "shell.execute_reply": "2023-03-18T18:56:26.169826Z"
        },
        "trusted": true,
        "id": "XorVNNcVQCAj"
      },
      "execution_count": null,
      "outputs": []
    },
    {
      "cell_type": "code",
      "source": [
        "train.head()"
      ],
      "metadata": {
        "execution": {
          "iopub.status.busy": "2023-03-18T18:56:26.172201Z",
          "iopub.execute_input": "2023-03-18T18:56:26.172618Z",
          "iopub.status.idle": "2023-03-18T18:56:26.190517Z",
          "shell.execute_reply.started": "2023-03-18T18:56:26.172570Z",
          "shell.execute_reply": "2023-03-18T18:56:26.189535Z"
        },
        "trusted": true,
        "id": "ojxPNtCfQCAk",
        "outputId": "177648cb-7549-4793-acf6-d459c1615f44"
      },
      "execution_count": null,
      "outputs": [
        {
          "execution_count": 5,
          "output_type": "execute_result",
          "data": {
            "text/plain": "                                           utterance  \\\n0                         will it be rainy in tenino   \n1  add steve albini album to my psychedelic rock ...   \n2  book a table for 3 at one of the restaurants i...   \n3            what s the weather forecast for belknap   \n4               play fereydoun farrokhzad best track   \n\n                                               slots          intent  \n0             O O O B-condition_description O B-city      GetWeather  \n1  O B-artist I-artist B-music_item O B-playlist_...   AddToPlaylist  \n2  O O O O B-party_size_number O O O O B-restaura...  BookRestaurant  \n3                                 O O O O O O B-city      GetWeather  \n4            O B-artist I-artist B-sort B-music_item       PlayMusic  ",
            "text/html": "<div>\n<style scoped>\n    .dataframe tbody tr th:only-of-type {\n        vertical-align: middle;\n    }\n\n    .dataframe tbody tr th {\n        vertical-align: top;\n    }\n\n    .dataframe thead th {\n        text-align: right;\n    }\n</style>\n<table border=\"1\" class=\"dataframe\">\n  <thead>\n    <tr style=\"text-align: right;\">\n      <th></th>\n      <th>utterance</th>\n      <th>slots</th>\n      <th>intent</th>\n    </tr>\n  </thead>\n  <tbody>\n    <tr>\n      <th>0</th>\n      <td>will it be rainy in tenino</td>\n      <td>O O O B-condition_description O B-city</td>\n      <td>GetWeather</td>\n    </tr>\n    <tr>\n      <th>1</th>\n      <td>add steve albini album to my psychedelic rock ...</td>\n      <td>O B-artist I-artist B-music_item O B-playlist_...</td>\n      <td>AddToPlaylist</td>\n    </tr>\n    <tr>\n      <th>2</th>\n      <td>book a table for 3 at one of the restaurants i...</td>\n      <td>O O O O B-party_size_number O O O O B-restaura...</td>\n      <td>BookRestaurant</td>\n    </tr>\n    <tr>\n      <th>3</th>\n      <td>what s the weather forecast for belknap</td>\n      <td>O O O O O O B-city</td>\n      <td>GetWeather</td>\n    </tr>\n    <tr>\n      <th>4</th>\n      <td>play fereydoun farrokhzad best track</td>\n      <td>O B-artist I-artist B-sort B-music_item</td>\n      <td>PlayMusic</td>\n    </tr>\n  </tbody>\n</table>\n</div>"
          },
          "metadata": {}
        }
      ]
    },
    {
      "cell_type": "code",
      "source": [
        "valid.head()"
      ],
      "metadata": {
        "execution": {
          "iopub.status.busy": "2023-03-18T18:56:26.192163Z",
          "iopub.execute_input": "2023-03-18T18:56:26.192500Z",
          "iopub.status.idle": "2023-03-18T18:56:26.202488Z",
          "shell.execute_reply.started": "2023-03-18T18:56:26.192465Z",
          "shell.execute_reply": "2023-03-18T18:56:26.201491Z"
        },
        "trusted": true,
        "id": "NmCcelwHQCAk",
        "outputId": "c3c35282-b5de-40e5-bb78-f1709a5e5b3a"
      },
      "execution_count": null,
      "outputs": [
        {
          "execution_count": 6,
          "output_type": "execute_result",
          "data": {
            "text/plain": "                                           utterance  \\\n0          i d like to see the show onion sportsdome   \n1                      give the current book 4 stars   \n2     reserve a table for 8 in neighboring hitchland   \n3          show creative video game the boat is full   \n4  put once bitten twice bitten into the pulse of...   \n\n                                               slots              intent  \n0  O O O O O O B-object_type B-object_name I-obje...  SearchCreativeWork  \n1  O O B-object_select B-object_type B-rating_val...            RateBook  \n2  O O O O B-party_size_number O B-spatial_relati...      BookRestaurant  \n3  O O B-object_type I-object_type B-object_name ...  SearchCreativeWork  \n4  O B-entity_name I-entity_name I-entity_name I-...       AddToPlaylist  ",
            "text/html": "<div>\n<style scoped>\n    .dataframe tbody tr th:only-of-type {\n        vertical-align: middle;\n    }\n\n    .dataframe tbody tr th {\n        vertical-align: top;\n    }\n\n    .dataframe thead th {\n        text-align: right;\n    }\n</style>\n<table border=\"1\" class=\"dataframe\">\n  <thead>\n    <tr style=\"text-align: right;\">\n      <th></th>\n      <th>utterance</th>\n      <th>slots</th>\n      <th>intent</th>\n    </tr>\n  </thead>\n  <tbody>\n    <tr>\n      <th>0</th>\n      <td>i d like to see the show onion sportsdome</td>\n      <td>O O O O O O B-object_type B-object_name I-obje...</td>\n      <td>SearchCreativeWork</td>\n    </tr>\n    <tr>\n      <th>1</th>\n      <td>give the current book 4 stars</td>\n      <td>O O B-object_select B-object_type B-rating_val...</td>\n      <td>RateBook</td>\n    </tr>\n    <tr>\n      <th>2</th>\n      <td>reserve a table for 8 in neighboring hitchland</td>\n      <td>O O O O B-party_size_number O B-spatial_relati...</td>\n      <td>BookRestaurant</td>\n    </tr>\n    <tr>\n      <th>3</th>\n      <td>show creative video game the boat is full</td>\n      <td>O O B-object_type I-object_type B-object_name ...</td>\n      <td>SearchCreativeWork</td>\n    </tr>\n    <tr>\n      <th>4</th>\n      <td>put once bitten twice bitten into the pulse of...</td>\n      <td>O B-entity_name I-entity_name I-entity_name I-...</td>\n      <td>AddToPlaylist</td>\n    </tr>\n  </tbody>\n</table>\n</div>"
          },
          "metadata": {}
        }
      ]
    },
    {
      "cell_type": "code",
      "source": [
        "test"
      ],
      "metadata": {
        "execution": {
          "iopub.status.busy": "2023-03-18T18:56:26.204164Z",
          "iopub.execute_input": "2023-03-18T18:56:26.204549Z",
          "iopub.status.idle": "2023-03-18T18:56:26.217890Z",
          "shell.execute_reply.started": "2023-03-18T18:56:26.204511Z",
          "shell.execute_reply": "2023-03-18T18:56:26.216663Z"
        },
        "trusted": true,
        "id": "8iNz42zIQCAk",
        "outputId": "0d33d423-2706-4ad3-e2df-a3648cc2b353"
      },
      "execution_count": null,
      "outputs": [
        {
          "execution_count": 7,
          "output_type": "execute_result",
          "data": {
            "text/plain": "      id                                          utterance\n0      1   add this tune to my playlist guest list mashable\n1      2  i d like to listen to the song the natural farmer\n2      3  i need a table for 8 people at a restaurant in...\n3      4  open the canciones del recuerdo playlist and p...\n4      5  i want to hear something from the top-fifty by...\n..   ...                                                ...\n295  296  show weather forecast in west wildwood south c...\n296  297     add this track to the playlist hits of the 70s\n297  298  i want to eat at a food truck this week with m...\n298  299                   rate company for gertrude 4 of 6\n299  300  i need a table for four at a pub in heard isla...\n\n[300 rows x 2 columns]",
            "text/html": "<div>\n<style scoped>\n    .dataframe tbody tr th:only-of-type {\n        vertical-align: middle;\n    }\n\n    .dataframe tbody tr th {\n        vertical-align: top;\n    }\n\n    .dataframe thead th {\n        text-align: right;\n    }\n</style>\n<table border=\"1\" class=\"dataframe\">\n  <thead>\n    <tr style=\"text-align: right;\">\n      <th></th>\n      <th>id</th>\n      <th>utterance</th>\n    </tr>\n  </thead>\n  <tbody>\n    <tr>\n      <th>0</th>\n      <td>1</td>\n      <td>add this tune to my playlist guest list mashable</td>\n    </tr>\n    <tr>\n      <th>1</th>\n      <td>2</td>\n      <td>i d like to listen to the song the natural farmer</td>\n    </tr>\n    <tr>\n      <th>2</th>\n      <td>3</td>\n      <td>i need a table for 8 people at a restaurant in...</td>\n    </tr>\n    <tr>\n      <th>3</th>\n      <td>4</td>\n      <td>open the canciones del recuerdo playlist and p...</td>\n    </tr>\n    <tr>\n      <th>4</th>\n      <td>5</td>\n      <td>i want to hear something from the top-fifty by...</td>\n    </tr>\n    <tr>\n      <th>...</th>\n      <td>...</td>\n      <td>...</td>\n    </tr>\n    <tr>\n      <th>295</th>\n      <td>296</td>\n      <td>show weather forecast in west wildwood south c...</td>\n    </tr>\n    <tr>\n      <th>296</th>\n      <td>297</td>\n      <td>add this track to the playlist hits of the 70s</td>\n    </tr>\n    <tr>\n      <th>297</th>\n      <td>298</td>\n      <td>i want to eat at a food truck this week with m...</td>\n    </tr>\n    <tr>\n      <th>298</th>\n      <td>299</td>\n      <td>rate company for gertrude 4 of 6</td>\n    </tr>\n    <tr>\n      <th>299</th>\n      <td>300</td>\n      <td>i need a table for four at a pub in heard isla...</td>\n    </tr>\n  </tbody>\n</table>\n<p>300 rows × 2 columns</p>\n</div>"
          },
          "metadata": {}
        }
      ]
    },
    {
      "cell_type": "code",
      "source": [
        "sample"
      ],
      "metadata": {
        "execution": {
          "iopub.status.busy": "2023-03-18T18:56:26.219204Z",
          "iopub.execute_input": "2023-03-18T18:56:26.220078Z",
          "iopub.status.idle": "2023-03-18T18:56:26.233887Z",
          "shell.execute_reply.started": "2023-03-18T18:56:26.220031Z",
          "shell.execute_reply": "2023-03-18T18:56:26.232454Z"
        },
        "trusted": true,
        "id": "6eAdGULQQCAk",
        "outputId": "88c9190b-813a-4a65-b1d4-ee0ddaa15206"
      },
      "execution_count": null,
      "outputs": [
        {
          "execution_count": 8,
          "output_type": "execute_result",
          "data": {
            "text/plain": "     id_word          slot\n0        1_1             O\n1        1_2             O\n2        1_3  B-music_item\n3        1_4           NaN\n4        1_5           NaN\n...      ...           ...\n2741  300_11           NaN\n2742  300_12           NaN\n2743  300_13           NaN\n2744  300_14           NaN\n2745  300_15           NaN\n\n[2746 rows x 2 columns]",
            "text/html": "<div>\n<style scoped>\n    .dataframe tbody tr th:only-of-type {\n        vertical-align: middle;\n    }\n\n    .dataframe tbody tr th {\n        vertical-align: top;\n    }\n\n    .dataframe thead th {\n        text-align: right;\n    }\n</style>\n<table border=\"1\" class=\"dataframe\">\n  <thead>\n    <tr style=\"text-align: right;\">\n      <th></th>\n      <th>id_word</th>\n      <th>slot</th>\n    </tr>\n  </thead>\n  <tbody>\n    <tr>\n      <th>0</th>\n      <td>1_1</td>\n      <td>O</td>\n    </tr>\n    <tr>\n      <th>1</th>\n      <td>1_2</td>\n      <td>O</td>\n    </tr>\n    <tr>\n      <th>2</th>\n      <td>1_3</td>\n      <td>B-music_item</td>\n    </tr>\n    <tr>\n      <th>3</th>\n      <td>1_4</td>\n      <td>NaN</td>\n    </tr>\n    <tr>\n      <th>4</th>\n      <td>1_5</td>\n      <td>NaN</td>\n    </tr>\n    <tr>\n      <th>...</th>\n      <td>...</td>\n      <td>...</td>\n    </tr>\n    <tr>\n      <th>2741</th>\n      <td>300_11</td>\n      <td>NaN</td>\n    </tr>\n    <tr>\n      <th>2742</th>\n      <td>300_12</td>\n      <td>NaN</td>\n    </tr>\n    <tr>\n      <th>2743</th>\n      <td>300_13</td>\n      <td>NaN</td>\n    </tr>\n    <tr>\n      <th>2744</th>\n      <td>300_14</td>\n      <td>NaN</td>\n    </tr>\n    <tr>\n      <th>2745</th>\n      <td>300_15</td>\n      <td>NaN</td>\n    </tr>\n  </tbody>\n</table>\n<p>2746 rows × 2 columns</p>\n</div>"
          },
          "metadata": {}
        }
      ]
    },
    {
      "cell_type": "code",
      "source": [
        "train"
      ],
      "metadata": {
        "execution": {
          "iopub.status.busy": "2023-03-18T18:56:26.235302Z",
          "iopub.execute_input": "2023-03-18T18:56:26.235768Z",
          "iopub.status.idle": "2023-03-18T18:56:26.248307Z",
          "shell.execute_reply.started": "2023-03-18T18:56:26.235729Z",
          "shell.execute_reply": "2023-03-18T18:56:26.246975Z"
        },
        "trusted": true,
        "id": "MoowYXJhQCAl",
        "outputId": "a23bc8ad-2e0c-4de6-fc37-4c36ce943b6f"
      },
      "execution_count": null,
      "outputs": [
        {
          "execution_count": 9,
          "output_type": "execute_result",
          "data": {
            "text/plain": "                                               utterance  \\\n0                             will it be rainy in tenino   \n1      add steve albini album to my psychedelic rock ...   \n2      book a table for 3 at one of the restaurants i...   \n3                what s the weather forecast for belknap   \n4                   play fereydoun farrokhzad best track   \n...                                                  ...   \n13079                        show me the lights out saga   \n13080   what is a weather of martinique a month from now   \n13081  i d like to reserve a spot at a bakery in guya...   \n13082       please find me the work  serious awesomeness   \n13083  play me a song by dj paul elstak in 1988 on zvooq   \n\n                                                   slots              intent  \n0                 O O O B-condition_description O B-city          GetWeather  \n1      O B-artist I-artist B-music_item O B-playlist_...       AddToPlaylist  \n2      O O O O B-party_size_number O O O O B-restaura...      BookRestaurant  \n3                                     O O O O O O B-city          GetWeather  \n4                O B-artist I-artist B-sort B-music_item           PlayMusic  \n...                                                  ...                 ...  \n13079    O O O B-object_name I-object_name B-object_type  SearchCreativeWork  \n13080  O O O O O B-country B-timeRange I-timeRange I-...          GetWeather  \n13081  O O O O O O O O O B-restaurant_type O B-countr...      BookRestaurant  \n13082              O O O O O B-object_name I-object_name  SearchCreativeWork  \n13083  O O O B-music_item O B-artist I-artist I-artis...           PlayMusic  \n\n[13084 rows x 3 columns]",
            "text/html": "<div>\n<style scoped>\n    .dataframe tbody tr th:only-of-type {\n        vertical-align: middle;\n    }\n\n    .dataframe tbody tr th {\n        vertical-align: top;\n    }\n\n    .dataframe thead th {\n        text-align: right;\n    }\n</style>\n<table border=\"1\" class=\"dataframe\">\n  <thead>\n    <tr style=\"text-align: right;\">\n      <th></th>\n      <th>utterance</th>\n      <th>slots</th>\n      <th>intent</th>\n    </tr>\n  </thead>\n  <tbody>\n    <tr>\n      <th>0</th>\n      <td>will it be rainy in tenino</td>\n      <td>O O O B-condition_description O B-city</td>\n      <td>GetWeather</td>\n    </tr>\n    <tr>\n      <th>1</th>\n      <td>add steve albini album to my psychedelic rock ...</td>\n      <td>O B-artist I-artist B-music_item O B-playlist_...</td>\n      <td>AddToPlaylist</td>\n    </tr>\n    <tr>\n      <th>2</th>\n      <td>book a table for 3 at one of the restaurants i...</td>\n      <td>O O O O B-party_size_number O O O O B-restaura...</td>\n      <td>BookRestaurant</td>\n    </tr>\n    <tr>\n      <th>3</th>\n      <td>what s the weather forecast for belknap</td>\n      <td>O O O O O O B-city</td>\n      <td>GetWeather</td>\n    </tr>\n    <tr>\n      <th>4</th>\n      <td>play fereydoun farrokhzad best track</td>\n      <td>O B-artist I-artist B-sort B-music_item</td>\n      <td>PlayMusic</td>\n    </tr>\n    <tr>\n      <th>...</th>\n      <td>...</td>\n      <td>...</td>\n      <td>...</td>\n    </tr>\n    <tr>\n      <th>13079</th>\n      <td>show me the lights out saga</td>\n      <td>O O O B-object_name I-object_name B-object_type</td>\n      <td>SearchCreativeWork</td>\n    </tr>\n    <tr>\n      <th>13080</th>\n      <td>what is a weather of martinique a month from now</td>\n      <td>O O O O O B-country B-timeRange I-timeRange I-...</td>\n      <td>GetWeather</td>\n    </tr>\n    <tr>\n      <th>13081</th>\n      <td>i d like to reserve a spot at a bakery in guya...</td>\n      <td>O O O O O O O O O B-restaurant_type O B-countr...</td>\n      <td>BookRestaurant</td>\n    </tr>\n    <tr>\n      <th>13082</th>\n      <td>please find me the work  serious awesomeness</td>\n      <td>O O O O O B-object_name I-object_name</td>\n      <td>SearchCreativeWork</td>\n    </tr>\n    <tr>\n      <th>13083</th>\n      <td>play me a song by dj paul elstak in 1988 on zvooq</td>\n      <td>O O O B-music_item O B-artist I-artist I-artis...</td>\n      <td>PlayMusic</td>\n    </tr>\n  </tbody>\n</table>\n<p>13084 rows × 3 columns</p>\n</div>"
          },
          "metadata": {}
        }
      ]
    },
    {
      "cell_type": "markdown",
      "source": [
        "#preprocess create dict"
      ],
      "metadata": {
        "id": "fhrOJkfdQCAl"
      }
    },
    {
      "cell_type": "code",
      "source": [
        "import nltk\n",
        "sentence=\"\"\"At eight o'clock on Thursday morning\n",
        "... Arthur didn't feel very good.\"\"\"\n",
        "tokens = nltk.word_tokenize(sentence)\n",
        "tokens"
      ],
      "metadata": {
        "execution": {
          "iopub.status.busy": "2023-03-18T18:56:26.254425Z",
          "iopub.execute_input": "2023-03-18T18:56:26.254824Z",
          "iopub.status.idle": "2023-03-18T18:56:26.848667Z",
          "shell.execute_reply.started": "2023-03-18T18:56:26.254789Z",
          "shell.execute_reply": "2023-03-18T18:56:26.847577Z"
        },
        "trusted": true,
        "id": "yKN61Z1lQCAm",
        "outputId": "71349adc-baa7-4305-f3bd-920feb225300"
      },
      "execution_count": null,
      "outputs": [
        {
          "execution_count": 10,
          "output_type": "execute_result",
          "data": {
            "text/plain": "['At',\n 'eight',\n \"o'clock\",\n 'on',\n 'Thursday',\n 'morning',\n '...',\n 'Arthur',\n 'did',\n \"n't\",\n 'feel',\n 'very',\n 'good',\n '.']"
          },
          "metadata": {}
        }
      ]
    },
    {
      "cell_type": "code",
      "source": [
        "a=train[\"utterance\"].iloc[0]\n",
        "print(a)\n",
        "tokens = nltk.word_tokenize(a)\n",
        "tokens"
      ],
      "metadata": {
        "execution": {
          "iopub.status.busy": "2023-03-18T18:56:26.850160Z",
          "iopub.execute_input": "2023-03-18T18:56:26.850856Z",
          "iopub.status.idle": "2023-03-18T18:56:26.860782Z",
          "shell.execute_reply.started": "2023-03-18T18:56:26.850811Z",
          "shell.execute_reply": "2023-03-18T18:56:26.859496Z"
        },
        "trusted": true,
        "id": "TRfx67BNQCAm",
        "outputId": "bd0c9550-269e-4935-85a9-30b08c1e96c5"
      },
      "execution_count": null,
      "outputs": [
        {
          "name": "stdout",
          "text": "will it be rainy in tenino\n",
          "output_type": "stream"
        },
        {
          "execution_count": 11,
          "output_type": "execute_result",
          "data": {
            "text/plain": "['will', 'it', 'be', 'rainy', 'in', 'tenino']"
          },
          "metadata": {}
        }
      ]
    },
    {
      "cell_type": "code",
      "source": [
        "b=train[\"slots\"].iloc[0]\n",
        "print(b)\n",
        "tokens = nltk.word_tokenize(b)\n",
        "tokens"
      ],
      "metadata": {
        "execution": {
          "iopub.status.busy": "2023-03-18T18:56:26.862305Z",
          "iopub.execute_input": "2023-03-18T18:56:26.863514Z",
          "iopub.status.idle": "2023-03-18T18:56:26.873351Z",
          "shell.execute_reply.started": "2023-03-18T18:56:26.863471Z",
          "shell.execute_reply": "2023-03-18T18:56:26.872027Z"
        },
        "trusted": true,
        "id": "PrAlNaevQCAn",
        "outputId": "0f9edf40-7bd9-4034-d072-18b5b4a72039"
      },
      "execution_count": null,
      "outputs": [
        {
          "name": "stdout",
          "text": "O O O B-condition_description O B-city\n",
          "output_type": "stream"
        },
        {
          "execution_count": 12,
          "output_type": "execute_result",
          "data": {
            "text/plain": "['O', 'O', 'O', 'B-condition_description', 'O', 'B-city']"
          },
          "metadata": {}
        }
      ]
    },
    {
      "cell_type": "code",
      "source": [
        "all_sentence_id=[]\n",
        "all_words=[]\n",
        "all_slots=[]\n",
        "def collect_word_n_slot(a_train_df,count):\n",
        "    for idx,rows in a_train_df.iterrows():\n",
        "        a_utterance=rows[\"utterance\"]\n",
        "        a_slots=rows[\"slots\"]\n",
        "        a_t_tokens=nltk.word_tokenize(a_utterance)\n",
        "        a_t_slots=nltk.word_tokenize(a_slots)\n",
        "        if len(a_t_tokens)==len(a_t_slots):\n",
        "            for word in a_t_tokens:\n",
        "                all_sentence_id.append(count)\n",
        "                all_words.append(word)\n",
        "            count+=1\n",
        "            for slot in a_t_slots:\n",
        "                all_slots.append(slot)"
      ],
      "metadata": {
        "execution": {
          "iopub.status.busy": "2023-03-18T18:56:26.874885Z",
          "iopub.execute_input": "2023-03-18T18:56:26.875578Z",
          "iopub.status.idle": "2023-03-18T18:56:26.884266Z",
          "shell.execute_reply.started": "2023-03-18T18:56:26.875537Z",
          "shell.execute_reply": "2023-03-18T18:56:26.883018Z"
        },
        "trusted": true,
        "id": "WPySk6fEQCAn"
      },
      "execution_count": null,
      "outputs": []
    },
    {
      "cell_type": "code",
      "source": [
        "collect_word_n_slot(train,0)\n",
        "print(len(all_words),len(all_slots),len(all_sentence_id))\n",
        "train_f_s_f=pd.DataFrame({\"sentence_id\":all_sentence_id,\"words\":all_words,\"labels\":all_slots})\n",
        "train_f_s_f"
      ],
      "metadata": {
        "execution": {
          "iopub.status.busy": "2023-03-18T18:56:26.885971Z",
          "iopub.execute_input": "2023-03-18T18:56:26.886749Z",
          "iopub.status.idle": "2023-03-18T18:56:30.996796Z",
          "shell.execute_reply.started": "2023-03-18T18:56:26.886712Z",
          "shell.execute_reply": "2023-03-18T18:56:30.995607Z"
        },
        "trusted": true,
        "id": "Pmbfj1_8QCAn",
        "outputId": "6fdc78ec-aab1-4242-ad1f-36749cd59aa3"
      },
      "execution_count": null,
      "outputs": [
        {
          "name": "stdout",
          "text": "113763 113763 113763\n",
          "output_type": "stream"
        },
        {
          "execution_count": 14,
          "output_type": "execute_result",
          "data": {
            "text/plain": "        sentence_id   words                   labels\n0                 0    will                        O\n1                 0      it                        O\n2                 0      be                        O\n3                 0   rainy  B-condition_description\n4                 0      in                        O\n...             ...     ...                      ...\n113758        12722  elstak                 I-artist\n113759        12722      in                        O\n113760        12722    1988                   B-year\n113761        12722      on                        O\n113762        12722   zvooq                B-service\n\n[113763 rows x 3 columns]",
            "text/html": "<div>\n<style scoped>\n    .dataframe tbody tr th:only-of-type {\n        vertical-align: middle;\n    }\n\n    .dataframe tbody tr th {\n        vertical-align: top;\n    }\n\n    .dataframe thead th {\n        text-align: right;\n    }\n</style>\n<table border=\"1\" class=\"dataframe\">\n  <thead>\n    <tr style=\"text-align: right;\">\n      <th></th>\n      <th>sentence_id</th>\n      <th>words</th>\n      <th>labels</th>\n    </tr>\n  </thead>\n  <tbody>\n    <tr>\n      <th>0</th>\n      <td>0</td>\n      <td>will</td>\n      <td>O</td>\n    </tr>\n    <tr>\n      <th>1</th>\n      <td>0</td>\n      <td>it</td>\n      <td>O</td>\n    </tr>\n    <tr>\n      <th>2</th>\n      <td>0</td>\n      <td>be</td>\n      <td>O</td>\n    </tr>\n    <tr>\n      <th>3</th>\n      <td>0</td>\n      <td>rainy</td>\n      <td>B-condition_description</td>\n    </tr>\n    <tr>\n      <th>4</th>\n      <td>0</td>\n      <td>in</td>\n      <td>O</td>\n    </tr>\n    <tr>\n      <th>...</th>\n      <td>...</td>\n      <td>...</td>\n      <td>...</td>\n    </tr>\n    <tr>\n      <th>113758</th>\n      <td>12722</td>\n      <td>elstak</td>\n      <td>I-artist</td>\n    </tr>\n    <tr>\n      <th>113759</th>\n      <td>12722</td>\n      <td>in</td>\n      <td>O</td>\n    </tr>\n    <tr>\n      <th>113760</th>\n      <td>12722</td>\n      <td>1988</td>\n      <td>B-year</td>\n    </tr>\n    <tr>\n      <th>113761</th>\n      <td>12722</td>\n      <td>on</td>\n      <td>O</td>\n    </tr>\n    <tr>\n      <th>113762</th>\n      <td>12722</td>\n      <td>zvooq</td>\n      <td>B-service</td>\n    </tr>\n  </tbody>\n</table>\n<p>113763 rows × 3 columns</p>\n</div>"
          },
          "metadata": {}
        }
      ]
    },
    {
      "cell_type": "code",
      "source": [
        "len(all_words),len(all_slots),len(all_sentence_id)"
      ],
      "metadata": {
        "execution": {
          "iopub.status.busy": "2023-03-18T18:56:30.998390Z",
          "iopub.execute_input": "2023-03-18T18:56:30.999479Z",
          "iopub.status.idle": "2023-03-18T18:56:31.008570Z",
          "shell.execute_reply.started": "2023-03-18T18:56:30.999425Z",
          "shell.execute_reply": "2023-03-18T18:56:31.007261Z"
        },
        "trusted": true,
        "id": "v1bQhOfpQCAn",
        "outputId": "d38383cf-ce9e-4568-e27a-1d17fac7a923"
      },
      "execution_count": null,
      "outputs": [
        {
          "execution_count": 15,
          "output_type": "execute_result",
          "data": {
            "text/plain": "(113763, 113763, 113763)"
          },
          "metadata": {}
        }
      ]
    },
    {
      "cell_type": "code",
      "source": [
        "train_f_s_f=pd.DataFrame({\"sentence_id\":all_sentence_id,\"words\":all_words,\"labels\":all_slots})\n",
        "train_f_s_f"
      ],
      "metadata": {
        "execution": {
          "iopub.status.busy": "2023-03-18T18:56:31.010171Z",
          "iopub.execute_input": "2023-03-18T18:56:31.010618Z",
          "iopub.status.idle": "2023-03-18T18:56:31.072275Z",
          "shell.execute_reply.started": "2023-03-18T18:56:31.010573Z",
          "shell.execute_reply": "2023-03-18T18:56:31.071186Z"
        },
        "trusted": true,
        "id": "9TA-wNqWQCAn",
        "outputId": "f4717b89-f03e-43d6-a539-ed42ad92e875"
      },
      "execution_count": null,
      "outputs": [
        {
          "execution_count": 16,
          "output_type": "execute_result",
          "data": {
            "text/plain": "        sentence_id   words                   labels\n0                 0    will                        O\n1                 0      it                        O\n2                 0      be                        O\n3                 0   rainy  B-condition_description\n4                 0      in                        O\n...             ...     ...                      ...\n113758        12722  elstak                 I-artist\n113759        12722      in                        O\n113760        12722    1988                   B-year\n113761        12722      on                        O\n113762        12722   zvooq                B-service\n\n[113763 rows x 3 columns]",
            "text/html": "<div>\n<style scoped>\n    .dataframe tbody tr th:only-of-type {\n        vertical-align: middle;\n    }\n\n    .dataframe tbody tr th {\n        vertical-align: top;\n    }\n\n    .dataframe thead th {\n        text-align: right;\n    }\n</style>\n<table border=\"1\" class=\"dataframe\">\n  <thead>\n    <tr style=\"text-align: right;\">\n      <th></th>\n      <th>sentence_id</th>\n      <th>words</th>\n      <th>labels</th>\n    </tr>\n  </thead>\n  <tbody>\n    <tr>\n      <th>0</th>\n      <td>0</td>\n      <td>will</td>\n      <td>O</td>\n    </tr>\n    <tr>\n      <th>1</th>\n      <td>0</td>\n      <td>it</td>\n      <td>O</td>\n    </tr>\n    <tr>\n      <th>2</th>\n      <td>0</td>\n      <td>be</td>\n      <td>O</td>\n    </tr>\n    <tr>\n      <th>3</th>\n      <td>0</td>\n      <td>rainy</td>\n      <td>B-condition_description</td>\n    </tr>\n    <tr>\n      <th>4</th>\n      <td>0</td>\n      <td>in</td>\n      <td>O</td>\n    </tr>\n    <tr>\n      <th>...</th>\n      <td>...</td>\n      <td>...</td>\n      <td>...</td>\n    </tr>\n    <tr>\n      <th>113758</th>\n      <td>12722</td>\n      <td>elstak</td>\n      <td>I-artist</td>\n    </tr>\n    <tr>\n      <th>113759</th>\n      <td>12722</td>\n      <td>in</td>\n      <td>O</td>\n    </tr>\n    <tr>\n      <th>113760</th>\n      <td>12722</td>\n      <td>1988</td>\n      <td>B-year</td>\n    </tr>\n    <tr>\n      <th>113761</th>\n      <td>12722</td>\n      <td>on</td>\n      <td>O</td>\n    </tr>\n    <tr>\n      <th>113762</th>\n      <td>12722</td>\n      <td>zvooq</td>\n      <td>B-service</td>\n    </tr>\n  </tbody>\n</table>\n<p>113763 rows × 3 columns</p>\n</div>"
          },
          "metadata": {}
        }
      ]
    },
    {
      "cell_type": "code",
      "source": [
        "train_f_s_f[train_f_s_f[\"sentence_id\"]==2]"
      ],
      "metadata": {
        "execution": {
          "iopub.status.busy": "2023-03-18T18:56:31.073836Z",
          "iopub.execute_input": "2023-03-18T18:56:31.074311Z",
          "iopub.status.idle": "2023-03-18T18:56:31.090480Z",
          "shell.execute_reply.started": "2023-03-18T18:56:31.074267Z",
          "shell.execute_reply": "2023-03-18T18:56:31.089599Z"
        },
        "trusted": true,
        "id": "LC_G5bW4QCAo",
        "outputId": "eeca77a3-070d-4dba-9565-05333435a66d"
      },
      "execution_count": null,
      "outputs": [
        {
          "execution_count": 17,
          "output_type": "execute_result",
          "data": {
            "text/plain": "    sentence_id        words               labels\n15            2         book                    O\n16            2            a                    O\n17            2        table                    O\n18            2          for                    O\n19            2            3  B-party_size_number\n20            2           at                    O\n21            2          one                    O\n22            2           of                    O\n23            2          the                    O\n24            2  restaurants    B-restaurant_name\n25            2           in    I-restaurant_name\n26            2   washington    I-restaurant_name\n27            2            d    I-restaurant_name\n28            2            c    I-restaurant_name\n29            2           in                    O\n30            2    riverview               B-city",
            "text/html": "<div>\n<style scoped>\n    .dataframe tbody tr th:only-of-type {\n        vertical-align: middle;\n    }\n\n    .dataframe tbody tr th {\n        vertical-align: top;\n    }\n\n    .dataframe thead th {\n        text-align: right;\n    }\n</style>\n<table border=\"1\" class=\"dataframe\">\n  <thead>\n    <tr style=\"text-align: right;\">\n      <th></th>\n      <th>sentence_id</th>\n      <th>words</th>\n      <th>labels</th>\n    </tr>\n  </thead>\n  <tbody>\n    <tr>\n      <th>15</th>\n      <td>2</td>\n      <td>book</td>\n      <td>O</td>\n    </tr>\n    <tr>\n      <th>16</th>\n      <td>2</td>\n      <td>a</td>\n      <td>O</td>\n    </tr>\n    <tr>\n      <th>17</th>\n      <td>2</td>\n      <td>table</td>\n      <td>O</td>\n    </tr>\n    <tr>\n      <th>18</th>\n      <td>2</td>\n      <td>for</td>\n      <td>O</td>\n    </tr>\n    <tr>\n      <th>19</th>\n      <td>2</td>\n      <td>3</td>\n      <td>B-party_size_number</td>\n    </tr>\n    <tr>\n      <th>20</th>\n      <td>2</td>\n      <td>at</td>\n      <td>O</td>\n    </tr>\n    <tr>\n      <th>21</th>\n      <td>2</td>\n      <td>one</td>\n      <td>O</td>\n    </tr>\n    <tr>\n      <th>22</th>\n      <td>2</td>\n      <td>of</td>\n      <td>O</td>\n    </tr>\n    <tr>\n      <th>23</th>\n      <td>2</td>\n      <td>the</td>\n      <td>O</td>\n    </tr>\n    <tr>\n      <th>24</th>\n      <td>2</td>\n      <td>restaurants</td>\n      <td>B-restaurant_name</td>\n    </tr>\n    <tr>\n      <th>25</th>\n      <td>2</td>\n      <td>in</td>\n      <td>I-restaurant_name</td>\n    </tr>\n    <tr>\n      <th>26</th>\n      <td>2</td>\n      <td>washington</td>\n      <td>I-restaurant_name</td>\n    </tr>\n    <tr>\n      <th>27</th>\n      <td>2</td>\n      <td>d</td>\n      <td>I-restaurant_name</td>\n    </tr>\n    <tr>\n      <th>28</th>\n      <td>2</td>\n      <td>c</td>\n      <td>I-restaurant_name</td>\n    </tr>\n    <tr>\n      <th>29</th>\n      <td>2</td>\n      <td>in</td>\n      <td>O</td>\n    </tr>\n    <tr>\n      <th>30</th>\n      <td>2</td>\n      <td>riverview</td>\n      <td>B-city</td>\n    </tr>\n  </tbody>\n</table>\n</div>"
          },
          "metadata": {}
        }
      ]
    },
    {
      "cell_type": "code",
      "source": [
        "from simpletransformers.ner import NERModel,NERArgs\n",
        "\n",
        "custom_labels = ['O', 'B-album', 'I-album', 'B-artist', 'I-artist', 'B-best_rating', 'I-best_rating',\n",
        "'B-city', 'I-city', 'B-condition_description', 'I-condition_description', 'B-condition_temperature',\n",
        "'I-condition_temperature', 'B-country', 'I-country', 'B-cuisine', 'I-cuisine', 'B-current_location',\n",
        "'I-current_location', 'B-entity_name', 'I-entity_name', 'B-facility', 'I-facility', 'B-genre', 'I-genre',\n",
        "'B-geographic_poi', 'I-geographic_poi', 'B-location_name', 'I-location_name', 'B-movie_name',\n",
        "'I-movie_name', 'B-movie_type', 'I-movie_type', 'B-music_item', 'I-music_item',\n",
        "'B-object_location_type', 'I-object_location_type', 'B-object_name', 'I-object_name',\n",
        "'B-object_part_of_series_type', 'I-object_part_of_series_type', 'B-object_select', 'I-object_select',\n",
        "'B-object_type', 'I-object_type', 'B-party_size_description', 'I-party_size_description',\n",
        "'B-party_size_number', 'I-party_size_number', 'B-playlist', 'I-playlist', 'B-playlist_owner',\n",
        "'I-playlist_owner', 'B-poi', 'I-poi', 'B-rating_unit', 'I-rating_unit', 'B-rating_value', 'I-rating_value',\n",
        "'B-restaurant_name', 'I-restaurant_name', 'B-restaurant_type', 'I-restaurant_type', 'B-served_dish',\n",
        "'I-served_dish', 'B-service', 'I-service', 'B-sort', 'I-sort', 'B-spatial_relation',\n",
        "'I-spatial_relation', 'B-state', 'I-state', 'B-timeRange', 'I-timeRange', 'B-track', 'I-track', 'B-year', 'I-year']\n",
        "model_args = {\n",
        "    \"reprocess_input_data\": True,\n",
        "    'train_batch_size':11,\n",
        "    \"use_early_stopping\": True,\n",
        "    \"early_stopping_delta\": 0.01,\n",
        "    \"early_stopping_metric\": \"mcc\",\n",
        "    \"early_stopping_metric_minimize\": False,\n",
        "    \"early_stopping_patience\": 2,\n",
        "    \"evaluate_during_training_steps\": 500,\n",
        "    \"fp16\": False,\n",
        "    \"overwrite_output_dir\":True,\n",
        "    'use_cached_eval_features' : False, \n",
        "    'max_seq_length': 128,\n",
        "    'no_cache': True,\n",
        "    \"warmup_ratio\":0.06,\n",
        "    \"num_train_epochs\":3,\n",
        "    \"adam_epsilon\":1e-08,\n",
        "}"
      ],
      "metadata": {
        "execution": {
          "iopub.status.busy": "2023-03-18T18:56:31.092064Z",
          "iopub.execute_input": "2023-03-18T18:56:31.092429Z",
          "iopub.status.idle": "2023-03-18T18:56:45.305822Z",
          "shell.execute_reply.started": "2023-03-18T18:56:31.092394Z",
          "shell.execute_reply": "2023-03-18T18:56:45.304413Z"
        },
        "trusted": true,
        "id": "E6Jv9sp9QCAo"
      },
      "execution_count": null,
      "outputs": []
    },
    {
      "cell_type": "code",
      "source": [
        "model = NERModel(\n",
        "    \"bert\", \"dslim/bert-base-NER\",args=model_args,labels=custom_labels,ignore_mismatched_sizes=True\n",
        ")"
      ],
      "metadata": {
        "execution": {
          "iopub.status.busy": "2023-03-18T18:56:45.310712Z",
          "iopub.execute_input": "2023-03-18T18:56:45.314486Z",
          "iopub.status.idle": "2023-03-18T18:56:56.412905Z",
          "shell.execute_reply.started": "2023-03-18T18:56:45.314442Z",
          "shell.execute_reply": "2023-03-18T18:56:56.411288Z"
        },
        "trusted": true,
        "id": "DCGXfASHQCAo",
        "outputId": "10e666c9-9990-4838-aafb-405e03e6f791",
        "colab": {
          "referenced_widgets": [
            "4095076d851d4e058fa179dad64c3d5d",
            "eee5a1d3f05d4ca097f6b0ca67beeb86",
            "d962400a67ab49ceaa8a25a37a448105",
            "c9790b7b3847464d8b178645200fa7e1",
            "fe44506d1d694d02a3ae4d8db1a38c2f",
            "b1801b9c31d045368dc7f068c29c382d"
          ]
        }
      },
      "execution_count": null,
      "outputs": [
        {
          "output_type": "display_data",
          "data": {
            "text/plain": "Downloading (…)lve/main/config.json:   0%|          | 0.00/829 [00:00<?, ?B/s]",
            "application/vnd.jupyter.widget-view+json": {
              "version_major": 2,
              "version_minor": 0,
              "model_id": "4095076d851d4e058fa179dad64c3d5d"
            }
          },
          "metadata": {}
        },
        {
          "output_type": "display_data",
          "data": {
            "text/plain": "Downloading (…)\"pytorch_model.bin\";:   0%|          | 0.00/433M [00:00<?, ?B/s]",
            "application/vnd.jupyter.widget-view+json": {
              "version_major": 2,
              "version_minor": 0,
              "model_id": "eee5a1d3f05d4ca097f6b0ca67beeb86"
            }
          },
          "metadata": {}
        },
        {
          "name": "stderr",
          "text": "Some weights of BertForTokenClassification were not initialized from the model checkpoint at dslim/bert-base-NER and are newly initialized because the shapes did not match:\n- classifier.weight: found shape torch.Size([9, 768]) in the checkpoint and torch.Size([79, 768]) in the model instantiated\n- classifier.bias: found shape torch.Size([9]) in the checkpoint and torch.Size([79]) in the model instantiated\nYou should probably TRAIN this model on a down-stream task to be able to use it for predictions and inference.\n",
          "output_type": "stream"
        },
        {
          "output_type": "display_data",
          "data": {
            "text/plain": "Downloading (…)solve/main/vocab.txt:   0%|          | 0.00/213k [00:00<?, ?B/s]",
            "application/vnd.jupyter.widget-view+json": {
              "version_major": 2,
              "version_minor": 0,
              "model_id": "d962400a67ab49ceaa8a25a37a448105"
            }
          },
          "metadata": {}
        },
        {
          "output_type": "display_data",
          "data": {
            "text/plain": "Downloading (…)in/added_tokens.json:   0%|          | 0.00/2.00 [00:00<?, ?B/s]",
            "application/vnd.jupyter.widget-view+json": {
              "version_major": 2,
              "version_minor": 0,
              "model_id": "c9790b7b3847464d8b178645200fa7e1"
            }
          },
          "metadata": {}
        },
        {
          "output_type": "display_data",
          "data": {
            "text/plain": "Downloading (…)cial_tokens_map.json:   0%|          | 0.00/112 [00:00<?, ?B/s]",
            "application/vnd.jupyter.widget-view+json": {
              "version_major": 2,
              "version_minor": 0,
              "model_id": "fe44506d1d694d02a3ae4d8db1a38c2f"
            }
          },
          "metadata": {}
        },
        {
          "output_type": "display_data",
          "data": {
            "text/plain": "Downloading (…)okenizer_config.json:   0%|          | 0.00/59.0 [00:00<?, ?B/s]",
            "application/vnd.jupyter.widget-view+json": {
              "version_major": 2,
              "version_minor": 0,
              "model_id": "b1801b9c31d045368dc7f068c29c382d"
            }
          },
          "metadata": {}
        }
      ]
    },
    {
      "cell_type": "code",
      "source": [
        "model.train_model(train_f_s_f, show_running_loss=True, acc=sklearn.metrics.accuracy_score)"
      ],
      "metadata": {
        "execution": {
          "iopub.status.busy": "2023-03-18T18:56:56.419939Z",
          "iopub.execute_input": "2023-03-18T18:56:56.423418Z",
          "iopub.status.idle": "2023-03-18T19:12:31.026674Z",
          "shell.execute_reply.started": "2023-03-18T18:56:56.423359Z",
          "shell.execute_reply": "2023-03-18T19:12:31.025675Z"
        },
        "trusted": true,
        "id": "M5SXOsyfQCAo",
        "outputId": "a917930d-fcfe-4152-9c78-1bf90f9a66ec",
        "colab": {
          "referenced_widgets": [
            "1edefbccd6b34aec80c86b0348c2c19a",
            "268be46b9a234daab7d7590d5754446c",
            "d3b4b625d3f64a8ba57323dec1cf51e7",
            "62e7e6a4a4234c25b170a98f5532b2c6",
            "6dce2edf85444391857f8b58f23f23f5"
          ]
        }
      },
      "execution_count": null,
      "outputs": [
        {
          "output_type": "display_data",
          "data": {
            "text/plain": "  0%|          | 0/3 [00:00<?, ?it/s]",
            "application/vnd.jupyter.widget-view+json": {
              "version_major": 2,
              "version_minor": 0,
              "model_id": "1edefbccd6b34aec80c86b0348c2c19a"
            }
          },
          "metadata": {}
        },
        {
          "output_type": "display_data",
          "data": {
            "text/plain": "Epoch:   0%|          | 0/3 [00:00<?, ?it/s]",
            "application/vnd.jupyter.widget-view+json": {
              "version_major": 2,
              "version_minor": 0,
              "model_id": "268be46b9a234daab7d7590d5754446c"
            }
          },
          "metadata": {}
        },
        {
          "output_type": "display_data",
          "data": {
            "text/plain": "Running Epoch 0 of 3:   0%|          | 0/1157 [00:00<?, ?it/s]",
            "application/vnd.jupyter.widget-view+json": {
              "version_major": 2,
              "version_minor": 0,
              "model_id": "d3b4b625d3f64a8ba57323dec1cf51e7"
            }
          },
          "metadata": {}
        },
        {
          "output_type": "display_data",
          "data": {
            "text/plain": "Running Epoch 1 of 3:   0%|          | 0/1157 [00:00<?, ?it/s]",
            "application/vnd.jupyter.widget-view+json": {
              "version_major": 2,
              "version_minor": 0,
              "model_id": "62e7e6a4a4234c25b170a98f5532b2c6"
            }
          },
          "metadata": {}
        },
        {
          "output_type": "display_data",
          "data": {
            "text/plain": "Running Epoch 2 of 3:   0%|          | 0/1157 [00:00<?, ?it/s]",
            "application/vnd.jupyter.widget-view+json": {
              "version_major": 2,
              "version_minor": 0,
              "model_id": "6dce2edf85444391857f8b58f23f23f5"
            }
          },
          "metadata": {}
        },
        {
          "execution_count": 20,
          "output_type": "execute_result",
          "data": {
            "text/plain": "(3471, 0.23693977420374449)"
          },
          "metadata": {}
        }
      ]
    },
    {
      "cell_type": "markdown",
      "source": [
        "#0.20845 0.22 0.213  0.2369"
      ],
      "metadata": {
        "id": "DQPMj1kUQCAo"
      }
    },
    {
      "cell_type": "code",
      "source": [
        "predictions, raw_outputs = model.predict(list(valid[\"utterance\"]))"
      ],
      "metadata": {
        "execution": {
          "iopub.status.busy": "2023-03-18T19:12:31.028240Z",
          "iopub.execute_input": "2023-03-18T19:12:31.028832Z",
          "iopub.status.idle": "2023-03-18T19:12:32.964097Z",
          "shell.execute_reply.started": "2023-03-18T19:12:31.028790Z",
          "shell.execute_reply": "2023-03-18T19:12:32.962936Z"
        },
        "trusted": true,
        "id": "Q2PXkobjQCAo",
        "outputId": "7e8cb44a-784d-4d5c-dc29-59f5f10c3a73",
        "colab": {
          "referenced_widgets": [
            "bbd26d79f0b84e96b5440a52d8bd7246",
            "e390c0c67b0745548c9776ba06bfcc90"
          ]
        }
      },
      "execution_count": null,
      "outputs": [
        {
          "output_type": "display_data",
          "data": {
            "text/plain": "  0%|          | 0/1 [00:00<?, ?it/s]",
            "application/vnd.jupyter.widget-view+json": {
              "version_major": 2,
              "version_minor": 0,
              "model_id": "bbd26d79f0b84e96b5440a52d8bd7246"
            }
          },
          "metadata": {}
        },
        {
          "output_type": "display_data",
          "data": {
            "text/plain": "Running Prediction:   0%|          | 0/25 [00:00<?, ?it/s]",
            "application/vnd.jupyter.widget-view+json": {
              "version_major": 2,
              "version_minor": 0,
              "model_id": "e390c0c67b0745548c9776ba06bfcc90"
            }
          },
          "metadata": {}
        }
      ]
    },
    {
      "cell_type": "code",
      "source": [
        "len(predictions)"
      ],
      "metadata": {
        "execution": {
          "iopub.status.busy": "2023-03-18T19:12:32.965947Z",
          "iopub.execute_input": "2023-03-18T19:12:32.966288Z",
          "iopub.status.idle": "2023-03-18T19:12:32.973167Z",
          "shell.execute_reply.started": "2023-03-18T19:12:32.966248Z",
          "shell.execute_reply": "2023-03-18T19:12:32.972028Z"
        },
        "trusted": true,
        "id": "gGAIqKKqQCAp",
        "outputId": "6189cb48-e308-4d42-f5b7-9bce6854392c"
      },
      "execution_count": null,
      "outputs": [
        {
          "execution_count": 22,
          "output_type": "execute_result",
          "data": {
            "text/plain": "200"
          },
          "metadata": {}
        }
      ]
    },
    {
      "cell_type": "code",
      "source": [
        "test.head()"
      ],
      "metadata": {
        "execution": {
          "iopub.status.busy": "2023-03-18T19:12:32.974709Z",
          "iopub.execute_input": "2023-03-18T19:12:32.975363Z",
          "iopub.status.idle": "2023-03-18T19:12:34.190880Z",
          "shell.execute_reply.started": "2023-03-18T19:12:32.975328Z",
          "shell.execute_reply": "2023-03-18T19:12:34.189532Z"
        },
        "trusted": true,
        "id": "whtAIUKdQCAp",
        "outputId": "a5e65bd5-8544-4679-ad63-46959272795e"
      },
      "execution_count": null,
      "outputs": [
        {
          "execution_count": 23,
          "output_type": "execute_result",
          "data": {
            "text/plain": "   id                                          utterance\n0   1   add this tune to my playlist guest list mashable\n1   2  i d like to listen to the song the natural farmer\n2   3  i need a table for 8 people at a restaurant in...\n3   4  open the canciones del recuerdo playlist and p...\n4   5  i want to hear something from the top-fifty by...",
            "text/html": "<div>\n<style scoped>\n    .dataframe tbody tr th:only-of-type {\n        vertical-align: middle;\n    }\n\n    .dataframe tbody tr th {\n        vertical-align: top;\n    }\n\n    .dataframe thead th {\n        text-align: right;\n    }\n</style>\n<table border=\"1\" class=\"dataframe\">\n  <thead>\n    <tr style=\"text-align: right;\">\n      <th></th>\n      <th>id</th>\n      <th>utterance</th>\n    </tr>\n  </thead>\n  <tbody>\n    <tr>\n      <th>0</th>\n      <td>1</td>\n      <td>add this tune to my playlist guest list mashable</td>\n    </tr>\n    <tr>\n      <th>1</th>\n      <td>2</td>\n      <td>i d like to listen to the song the natural farmer</td>\n    </tr>\n    <tr>\n      <th>2</th>\n      <td>3</td>\n      <td>i need a table for 8 people at a restaurant in...</td>\n    </tr>\n    <tr>\n      <th>3</th>\n      <td>4</td>\n      <td>open the canciones del recuerdo playlist and p...</td>\n    </tr>\n    <tr>\n      <th>4</th>\n      <td>5</td>\n      <td>i want to hear something from the top-fifty by...</td>\n    </tr>\n  </tbody>\n</table>\n</div>"
          },
          "metadata": {}
        }
      ]
    },
    {
      "cell_type": "code",
      "source": [
        "preds,raw=model.predict(list(test[\"utterance\"]))"
      ],
      "metadata": {
        "execution": {
          "iopub.status.busy": "2023-03-18T19:12:34.192534Z",
          "iopub.execute_input": "2023-03-18T19:12:34.192908Z",
          "iopub.status.idle": "2023-03-18T19:12:38.637140Z",
          "shell.execute_reply.started": "2023-03-18T19:12:34.192871Z",
          "shell.execute_reply": "2023-03-18T19:12:38.635945Z"
        },
        "trusted": true,
        "id": "9yhGjIcaQCAp",
        "outputId": "90b7cc40-ac00-4b52-e472-a818001c74da",
        "colab": {
          "referenced_widgets": [
            "65dcc72beb4e4b6fa6529992c2aab52c",
            "b29ce80753e046c8a1932f1a61cd59ac"
          ]
        }
      },
      "execution_count": null,
      "outputs": [
        {
          "output_type": "display_data",
          "data": {
            "text/plain": "  0%|          | 0/1 [00:00<?, ?it/s]",
            "application/vnd.jupyter.widget-view+json": {
              "version_major": 2,
              "version_minor": 0,
              "model_id": "65dcc72beb4e4b6fa6529992c2aab52c"
            }
          },
          "metadata": {}
        },
        {
          "output_type": "display_data",
          "data": {
            "text/plain": "Running Prediction:   0%|          | 0/38 [00:00<?, ?it/s]",
            "application/vnd.jupyter.widget-view+json": {
              "version_major": 2,
              "version_minor": 0,
              "model_id": "b29ce80753e046c8a1932f1a61cd59ac"
            }
          },
          "metadata": {}
        }
      ]
    },
    {
      "cell_type": "code",
      "source": [
        "preds[0]"
      ],
      "metadata": {
        "execution": {
          "iopub.status.busy": "2023-03-18T19:12:38.642042Z",
          "iopub.execute_input": "2023-03-18T19:12:38.645366Z",
          "iopub.status.idle": "2023-03-18T19:12:38.656852Z",
          "shell.execute_reply.started": "2023-03-18T19:12:38.645323Z",
          "shell.execute_reply": "2023-03-18T19:12:38.655721Z"
        },
        "trusted": true,
        "id": "PEVaIMYKQCAp",
        "outputId": "fb90d967-1aef-4cc3-819f-2b3813b2b47d"
      },
      "execution_count": null,
      "outputs": [
        {
          "execution_count": 25,
          "output_type": "execute_result",
          "data": {
            "text/plain": "[{'add': 'O'},\n {'this': 'O'},\n {'tune': 'B-music_item'},\n {'to': 'O'},\n {'my': 'B-playlist_owner'},\n {'playlist': 'O'},\n {'guest': 'B-playlist'},\n {'list': 'I-playlist'},\n {'mashable': 'I-playlist'}]"
          },
          "metadata": {}
        }
      ]
    },
    {
      "cell_type": "code",
      "source": [
        "sample"
      ],
      "metadata": {
        "execution": {
          "iopub.status.busy": "2023-03-18T19:12:38.661723Z",
          "iopub.execute_input": "2023-03-18T19:12:38.665192Z",
          "iopub.status.idle": "2023-03-18T19:12:38.683999Z",
          "shell.execute_reply.started": "2023-03-18T19:12:38.665148Z",
          "shell.execute_reply": "2023-03-18T19:12:38.682988Z"
        },
        "trusted": true,
        "id": "BCY4Qy71QCAp",
        "outputId": "ba21a40c-2d70-4993-ddde-4d40201e99d3"
      },
      "execution_count": null,
      "outputs": [
        {
          "execution_count": 26,
          "output_type": "execute_result",
          "data": {
            "text/plain": "     id_word          slot\n0        1_1             O\n1        1_2             O\n2        1_3  B-music_item\n3        1_4           NaN\n4        1_5           NaN\n...      ...           ...\n2741  300_11           NaN\n2742  300_12           NaN\n2743  300_13           NaN\n2744  300_14           NaN\n2745  300_15           NaN\n\n[2746 rows x 2 columns]",
            "text/html": "<div>\n<style scoped>\n    .dataframe tbody tr th:only-of-type {\n        vertical-align: middle;\n    }\n\n    .dataframe tbody tr th {\n        vertical-align: top;\n    }\n\n    .dataframe thead th {\n        text-align: right;\n    }\n</style>\n<table border=\"1\" class=\"dataframe\">\n  <thead>\n    <tr style=\"text-align: right;\">\n      <th></th>\n      <th>id_word</th>\n      <th>slot</th>\n    </tr>\n  </thead>\n  <tbody>\n    <tr>\n      <th>0</th>\n      <td>1_1</td>\n      <td>O</td>\n    </tr>\n    <tr>\n      <th>1</th>\n      <td>1_2</td>\n      <td>O</td>\n    </tr>\n    <tr>\n      <th>2</th>\n      <td>1_3</td>\n      <td>B-music_item</td>\n    </tr>\n    <tr>\n      <th>3</th>\n      <td>1_4</td>\n      <td>NaN</td>\n    </tr>\n    <tr>\n      <th>4</th>\n      <td>1_5</td>\n      <td>NaN</td>\n    </tr>\n    <tr>\n      <th>...</th>\n      <td>...</td>\n      <td>...</td>\n    </tr>\n    <tr>\n      <th>2741</th>\n      <td>300_11</td>\n      <td>NaN</td>\n    </tr>\n    <tr>\n      <th>2742</th>\n      <td>300_12</td>\n      <td>NaN</td>\n    </tr>\n    <tr>\n      <th>2743</th>\n      <td>300_13</td>\n      <td>NaN</td>\n    </tr>\n    <tr>\n      <th>2744</th>\n      <td>300_14</td>\n      <td>NaN</td>\n    </tr>\n    <tr>\n      <th>2745</th>\n      <td>300_15</td>\n      <td>NaN</td>\n    </tr>\n  </tbody>\n</table>\n<p>2746 rows × 2 columns</p>\n</div>"
          },
          "metadata": {}
        }
      ]
    },
    {
      "cell_type": "code",
      "source": [
        "l={'add': 'O'}\n",
        "l.popitem()[1]"
      ],
      "metadata": {
        "execution": {
          "iopub.status.busy": "2023-03-18T19:12:38.688131Z",
          "iopub.execute_input": "2023-03-18T19:12:38.690903Z",
          "iopub.status.idle": "2023-03-18T19:12:38.701179Z",
          "shell.execute_reply.started": "2023-03-18T19:12:38.690866Z",
          "shell.execute_reply": "2023-03-18T19:12:38.700123Z"
        },
        "trusted": true,
        "id": "mz6t2wJtQCAp",
        "outputId": "b4e6fb8f-cd8b-461b-ab30-9579618c35ac"
      },
      "execution_count": null,
      "outputs": [
        {
          "execution_count": 27,
          "output_type": "execute_result",
          "data": {
            "text/plain": "'O'"
          },
          "metadata": {}
        }
      ]
    },
    {
      "cell_type": "code",
      "source": [
        "def get_ans(preds):\n",
        "    res=[]\n",
        "    for i in preds:\n",
        "        for j in i:\n",
        "            res.append(j.popitem()[1])\n",
        "    return res"
      ],
      "metadata": {
        "execution": {
          "iopub.status.busy": "2023-03-18T19:12:38.710899Z",
          "iopub.execute_input": "2023-03-18T19:12:38.711655Z",
          "iopub.status.idle": "2023-03-18T19:12:38.720800Z",
          "shell.execute_reply.started": "2023-03-18T19:12:38.711620Z",
          "shell.execute_reply": "2023-03-18T19:12:38.719731Z"
        },
        "trusted": true,
        "id": "U4cxr26uQCAp"
      },
      "execution_count": null,
      "outputs": []
    },
    {
      "cell_type": "code",
      "source": [
        "res=get_ans(preds)"
      ],
      "metadata": {
        "execution": {
          "iopub.status.busy": "2023-03-18T19:12:38.725425Z",
          "iopub.execute_input": "2023-03-18T19:12:38.728113Z",
          "iopub.status.idle": "2023-03-18T19:12:38.735799Z",
          "shell.execute_reply.started": "2023-03-18T19:12:38.728076Z",
          "shell.execute_reply": "2023-03-18T19:12:38.734710Z"
        },
        "trusted": true,
        "id": "5dE-4uowQCAp"
      },
      "execution_count": null,
      "outputs": []
    },
    {
      "cell_type": "code",
      "source": [
        "sample[\"slot\"]=res"
      ],
      "metadata": {
        "execution": {
          "iopub.status.busy": "2023-03-18T19:12:38.740319Z",
          "iopub.execute_input": "2023-03-18T19:12:38.740948Z",
          "iopub.status.idle": "2023-03-18T19:12:38.750801Z",
          "shell.execute_reply.started": "2023-03-18T19:12:38.740911Z",
          "shell.execute_reply": "2023-03-18T19:12:38.749669Z"
        },
        "trusted": true,
        "id": "S0njR_0FQCAp"
      },
      "execution_count": null,
      "outputs": []
    },
    {
      "cell_type": "code",
      "source": [
        "sample"
      ],
      "metadata": {
        "execution": {
          "iopub.status.busy": "2023-03-18T19:12:38.753833Z",
          "iopub.execute_input": "2023-03-18T19:12:38.755426Z",
          "iopub.status.idle": "2023-03-18T19:12:38.774805Z",
          "shell.execute_reply.started": "2023-03-18T19:12:38.755389Z",
          "shell.execute_reply": "2023-03-18T19:12:38.773688Z"
        },
        "trusted": true,
        "id": "e7smG1jIQCAp",
        "outputId": "2c84955b-287d-4dc1-c609-42a04b67a7be"
      },
      "execution_count": null,
      "outputs": [
        {
          "execution_count": 31,
          "output_type": "execute_result",
          "data": {
            "text/plain": "     id_word              slot\n0        1_1                 O\n1        1_2                 O\n2        1_3      B-music_item\n3        1_4                 O\n4        1_5  B-playlist_owner\n...      ...               ...\n2741  300_11            B-city\n2742  300_12            I-city\n2743  300_13                 O\n2744  300_14         B-country\n2745  300_15         I-country\n\n[2746 rows x 2 columns]",
            "text/html": "<div>\n<style scoped>\n    .dataframe tbody tr th:only-of-type {\n        vertical-align: middle;\n    }\n\n    .dataframe tbody tr th {\n        vertical-align: top;\n    }\n\n    .dataframe thead th {\n        text-align: right;\n    }\n</style>\n<table border=\"1\" class=\"dataframe\">\n  <thead>\n    <tr style=\"text-align: right;\">\n      <th></th>\n      <th>id_word</th>\n      <th>slot</th>\n    </tr>\n  </thead>\n  <tbody>\n    <tr>\n      <th>0</th>\n      <td>1_1</td>\n      <td>O</td>\n    </tr>\n    <tr>\n      <th>1</th>\n      <td>1_2</td>\n      <td>O</td>\n    </tr>\n    <tr>\n      <th>2</th>\n      <td>1_3</td>\n      <td>B-music_item</td>\n    </tr>\n    <tr>\n      <th>3</th>\n      <td>1_4</td>\n      <td>O</td>\n    </tr>\n    <tr>\n      <th>4</th>\n      <td>1_5</td>\n      <td>B-playlist_owner</td>\n    </tr>\n    <tr>\n      <th>...</th>\n      <td>...</td>\n      <td>...</td>\n    </tr>\n    <tr>\n      <th>2741</th>\n      <td>300_11</td>\n      <td>B-city</td>\n    </tr>\n    <tr>\n      <th>2742</th>\n      <td>300_12</td>\n      <td>I-city</td>\n    </tr>\n    <tr>\n      <th>2743</th>\n      <td>300_13</td>\n      <td>O</td>\n    </tr>\n    <tr>\n      <th>2744</th>\n      <td>300_14</td>\n      <td>B-country</td>\n    </tr>\n    <tr>\n      <th>2745</th>\n      <td>300_15</td>\n      <td>I-country</td>\n    </tr>\n  </tbody>\n</table>\n<p>2746 rows × 2 columns</p>\n</div>"
          },
          "metadata": {}
        }
      ]
    },
    {
      "cell_type": "code",
      "source": [
        "valid_9810=pd.read_csv(\"/kaggle/input/valid-seccond/bert_stn (1).csv\")\n",
        "valid_0977=pd.read_csv(\"/kaggle/input/validation-from-first/bert_stn.csv\")\n",
        "valid_0977"
      ],
      "metadata": {
        "execution": {
          "iopub.status.busy": "2023-03-18T19:12:38.779009Z",
          "iopub.execute_input": "2023-03-18T19:12:38.781524Z",
          "iopub.status.idle": "2023-03-18T19:12:38.815798Z",
          "shell.execute_reply.started": "2023-03-18T19:12:38.781484Z",
          "shell.execute_reply": "2023-03-18T19:12:38.814879Z"
        },
        "trusted": true,
        "id": "tRQApGtaQCAq",
        "outputId": "883bbf02-176a-4900-ba0c-63594a81867b"
      },
      "execution_count": null,
      "outputs": [
        {
          "execution_count": 32,
          "output_type": "execute_result",
          "data": {
            "text/plain": "     id_word              slot\n0        1_1                 O\n1        1_2                 O\n2        1_3      B-music_item\n3        1_4                 O\n4        1_5  B-playlist_owner\n...      ...               ...\n2741  300_11         B-country\n2742  300_12         I-country\n2743  300_13         I-country\n2744  300_14         I-country\n2745  300_15         I-country\n\n[2746 rows x 2 columns]",
            "text/html": "<div>\n<style scoped>\n    .dataframe tbody tr th:only-of-type {\n        vertical-align: middle;\n    }\n\n    .dataframe tbody tr th {\n        vertical-align: top;\n    }\n\n    .dataframe thead th {\n        text-align: right;\n    }\n</style>\n<table border=\"1\" class=\"dataframe\">\n  <thead>\n    <tr style=\"text-align: right;\">\n      <th></th>\n      <th>id_word</th>\n      <th>slot</th>\n    </tr>\n  </thead>\n  <tbody>\n    <tr>\n      <th>0</th>\n      <td>1_1</td>\n      <td>O</td>\n    </tr>\n    <tr>\n      <th>1</th>\n      <td>1_2</td>\n      <td>O</td>\n    </tr>\n    <tr>\n      <th>2</th>\n      <td>1_3</td>\n      <td>B-music_item</td>\n    </tr>\n    <tr>\n      <th>3</th>\n      <td>1_4</td>\n      <td>O</td>\n    </tr>\n    <tr>\n      <th>4</th>\n      <td>1_5</td>\n      <td>B-playlist_owner</td>\n    </tr>\n    <tr>\n      <th>...</th>\n      <td>...</td>\n      <td>...</td>\n    </tr>\n    <tr>\n      <th>2741</th>\n      <td>300_11</td>\n      <td>B-country</td>\n    </tr>\n    <tr>\n      <th>2742</th>\n      <td>300_12</td>\n      <td>I-country</td>\n    </tr>\n    <tr>\n      <th>2743</th>\n      <td>300_13</td>\n      <td>I-country</td>\n    </tr>\n    <tr>\n      <th>2744</th>\n      <td>300_14</td>\n      <td>I-country</td>\n    </tr>\n    <tr>\n      <th>2745</th>\n      <td>300_15</td>\n      <td>I-country</td>\n    </tr>\n  </tbody>\n</table>\n<p>2746 rows × 2 columns</p>\n</div>"
          },
          "metadata": {}
        }
      ]
    },
    {
      "cell_type": "code",
      "source": [
        "valid_9810"
      ],
      "metadata": {
        "execution": {
          "iopub.status.busy": "2023-03-18T19:12:38.817132Z",
          "iopub.execute_input": "2023-03-18T19:12:38.817768Z",
          "iopub.status.idle": "2023-03-18T19:12:38.830021Z",
          "shell.execute_reply.started": "2023-03-18T19:12:38.817731Z",
          "shell.execute_reply": "2023-03-18T19:12:38.828706Z"
        },
        "trusted": true,
        "id": "oXtADQHsQCAq",
        "outputId": "06526d6a-b338-4b31-a45d-4f4001f381da"
      },
      "execution_count": null,
      "outputs": [
        {
          "execution_count": 33,
          "output_type": "execute_result",
          "data": {
            "text/plain": "     id_word              slot\n0        1_1                 O\n1        1_2                 O\n2        1_3      B-music_item\n3        1_4                 O\n4        1_5  B-playlist_owner\n...      ...               ...\n2741  300_11            B-city\n2742  300_12         I-country\n2743  300_13                 O\n2744  300_14         B-country\n2745  300_15         I-country\n\n[2746 rows x 2 columns]",
            "text/html": "<div>\n<style scoped>\n    .dataframe tbody tr th:only-of-type {\n        vertical-align: middle;\n    }\n\n    .dataframe tbody tr th {\n        vertical-align: top;\n    }\n\n    .dataframe thead th {\n        text-align: right;\n    }\n</style>\n<table border=\"1\" class=\"dataframe\">\n  <thead>\n    <tr style=\"text-align: right;\">\n      <th></th>\n      <th>id_word</th>\n      <th>slot</th>\n    </tr>\n  </thead>\n  <tbody>\n    <tr>\n      <th>0</th>\n      <td>1_1</td>\n      <td>O</td>\n    </tr>\n    <tr>\n      <th>1</th>\n      <td>1_2</td>\n      <td>O</td>\n    </tr>\n    <tr>\n      <th>2</th>\n      <td>1_3</td>\n      <td>B-music_item</td>\n    </tr>\n    <tr>\n      <th>3</th>\n      <td>1_4</td>\n      <td>O</td>\n    </tr>\n    <tr>\n      <th>4</th>\n      <td>1_5</td>\n      <td>B-playlist_owner</td>\n    </tr>\n    <tr>\n      <th>...</th>\n      <td>...</td>\n      <td>...</td>\n    </tr>\n    <tr>\n      <th>2741</th>\n      <td>300_11</td>\n      <td>B-city</td>\n    </tr>\n    <tr>\n      <th>2742</th>\n      <td>300_12</td>\n      <td>I-country</td>\n    </tr>\n    <tr>\n      <th>2743</th>\n      <td>300_13</td>\n      <td>O</td>\n    </tr>\n    <tr>\n      <th>2744</th>\n      <td>300_14</td>\n      <td>B-country</td>\n    </tr>\n    <tr>\n      <th>2745</th>\n      <td>300_15</td>\n      <td>I-country</td>\n    </tr>\n  </tbody>\n</table>\n<p>2746 rows × 2 columns</p>\n</div>"
          },
          "metadata": {}
        }
      ]
    },
    {
      "cell_type": "code",
      "source": [
        "#0.98798, ,  \n",
        "from sklearn.metrics import f1_score\n",
        "f1_score(sample[\"slot\"],valid_0977[\"slot\"],average=\"micro\")"
      ],
      "metadata": {
        "execution": {
          "iopub.status.busy": "2023-03-18T19:12:38.831813Z",
          "iopub.execute_input": "2023-03-18T19:12:38.832166Z",
          "iopub.status.idle": "2023-03-18T19:12:38.855611Z",
          "shell.execute_reply.started": "2023-03-18T19:12:38.832132Z",
          "shell.execute_reply": "2023-03-18T19:12:38.854518Z"
        },
        "trusted": true,
        "id": "NTO-6EQIQCAq",
        "outputId": "a2c73cdc-1a5a-4158-987a-d93edaef8d7c"
      },
      "execution_count": null,
      "outputs": [
        {
          "execution_count": 34,
          "output_type": "execute_result",
          "data": {
            "text/plain": "0.9799708667152222"
          },
          "metadata": {}
        }
      ]
    },
    {
      "cell_type": "code",
      "source": [
        "sample.to_csv(\"bert_base_case_11.csv\",index=False)"
      ],
      "metadata": {
        "execution": {
          "iopub.status.busy": "2023-03-18T19:12:54.859430Z",
          "iopub.execute_input": "2023-03-18T19:12:54.860141Z",
          "iopub.status.idle": "2023-03-18T19:12:54.870775Z",
          "shell.execute_reply.started": "2023-03-18T19:12:54.860105Z",
          "shell.execute_reply": "2023-03-18T19:12:54.869678Z"
        },
        "trusted": true,
        "id": "6239uDdUQCAq"
      },
      "execution_count": null,
      "outputs": []
    },
    {
      "cell_type": "code",
      "source": [],
      "metadata": {
        "id": "1zFp8PzsQCAq"
      },
      "execution_count": null,
      "outputs": []
    }
  ]
}